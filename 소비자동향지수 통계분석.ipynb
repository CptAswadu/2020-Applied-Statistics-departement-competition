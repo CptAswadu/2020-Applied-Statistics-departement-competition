{
 "cells": [
  {
   "cell_type": "code",
   "execution_count": 1,
   "metadata": {},
   "outputs": [
    {
     "name": "stdout",
     "output_type": "stream",
     "text": [
      "package 'agricolae' successfully unpacked and MD5 sums checked\n",
      "\n",
      "The downloaded binary packages are in\n",
      "\tC:\\Users\\Public\\Documents\\ESTsoft\\CreatorTemp\\RtmpoxrjNO\\downloaded_packages\n"
     ]
    },
    {
     "name": "stderr",
     "output_type": "stream",
     "text": [
      "\n",
      "Attaching package: 'dplyr'\n",
      "\n",
      "The following objects are masked from 'package:stats':\n",
      "\n",
      "    filter, lag\n",
      "\n",
      "The following objects are masked from 'package:base':\n",
      "\n",
      "    intersect, setdiff, setequal, union\n",
      "\n",
      "Registered S3 methods overwritten by 'ggplot2':\n",
      "  method         from \n",
      "  [.quosures     rlang\n",
      "  c.quosures     rlang\n",
      "  print.quosures rlang\n",
      "Warning message:\n",
      "\"package 'agricolae' was built under R version 3.6.3\""
     ]
    },
    {
     "data": {
      "text/html": [
       "<table>\n",
       "<thead><tr><th scope=col>지수코드별</th><th scope=col>분류코드별</th><th scope=col>항목</th><th scope=col>단위</th><th scope=col>2018. 01 월</th><th scope=col>2018. 02 월</th><th scope=col>2018. 03 월</th><th scope=col>2018. 04 월</th><th scope=col>2018. 05 월</th><th scope=col>2018. 06 월</th><th scope=col>...</th><th scope=col>2020. 01 월</th><th scope=col>2020. 02 월</th><th scope=col>2020. 03 월</th><th scope=col>2020. 04 월</th><th scope=col>2020. 05 월</th><th scope=col>2020. 06 월</th><th scope=col>2020. 07 월</th><th scope=col>2020. 08 월</th><th scope=col>2020. 09 월</th><th scope=col>2020. 10 월</th></tr></thead>\n",
       "<tbody>\n",
       "\t<tr><td>현재생활형편CSI</td><td>전체           </td><td>소비자동향     </td><td>NA             </td><td>94             </td><td>94             </td><td>95             </td><td> 95            </td><td>95             </td><td>94             </td><td>...            </td><td>93             </td><td>91             </td><td>83             </td><td>77             </td><td>79             </td><td>84             </td><td>85             </td><td>85             </td><td>81             </td><td>86             </td></tr>\n",
       "\t<tr><td>현재생활형편CSI</td><td>남자           </td><td>소비자동향     </td><td>NA             </td><td>94             </td><td>94             </td><td>95             </td><td> 94            </td><td>95             </td><td>94             </td><td>...            </td><td>93             </td><td>91             </td><td>82             </td><td>76             </td><td>79             </td><td>84             </td><td>85             </td><td>85             </td><td>81             </td><td>86             </td></tr>\n",
       "\t<tr><td>현재생활형편CSI</td><td>여자           </td><td>소비자동향     </td><td>NA             </td><td>95             </td><td>94             </td><td>95             </td><td> 95            </td><td>97             </td><td>95             </td><td>...            </td><td>95             </td><td>94             </td><td>84             </td><td>79             </td><td>80             </td><td>85             </td><td>86             </td><td>86             </td><td>81             </td><td>86             </td></tr>\n",
       "\t<tr><td>현재생활형편CSI</td><td>40세미만       </td><td>소비자동향     </td><td>NA             </td><td>96             </td><td>98             </td><td>99             </td><td>100            </td><td>98             </td><td>99             </td><td>...            </td><td>97             </td><td>96             </td><td>90             </td><td>87             </td><td>87             </td><td>90             </td><td>90             </td><td>91             </td><td>87             </td><td>92             </td></tr>\n",
       "\t<tr><td>현재생활형편CSI</td><td>40-50세        </td><td>소비자동향     </td><td>NA             </td><td>96             </td><td>93             </td><td>96             </td><td> 95            </td><td>96             </td><td>94             </td><td>...            </td><td>96             </td><td>96             </td><td>85             </td><td>77             </td><td>81             </td><td>86             </td><td>87             </td><td>86             </td><td>83             </td><td>89             </td></tr>\n",
       "\t<tr><td>현재생활형편CSI</td><td>50-60세        </td><td>소비자동향     </td><td>NA             </td><td>93             </td><td>95             </td><td>95             </td><td> 94            </td><td>95             </td><td>92             </td><td>...            </td><td>91             </td><td>90             </td><td>79             </td><td>73             </td><td>74             </td><td>77             </td><td>82             </td><td>83             </td><td>78             </td><td>83             </td></tr>\n",
       "</tbody>\n",
       "</table>\n"
      ],
      "text/latex": [
       "\\begin{tabular}{r|llllllllllllllllllllllllllllllllllllll}\n",
       " 지수코드별 & 분류코드별 & 항목 & 단위 & 2018. 01 월 & 2018. 02 월 & 2018. 03 월 & 2018. 04 월 & 2018. 05 월 & 2018. 06 월 & ... & 2020. 01 월 & 2020. 02 월 & 2020. 03 월 & 2020. 04 월 & 2020. 05 월 & 2020. 06 월 & 2020. 07 월 & 2020. 08 월 & 2020. 09 월 & 2020. 10 월\\\\\n",
       "\\hline\n",
       "\t 현재생활형편CSI & 전체            & 소비자동향      & NA              & 94              & 94              & 95              &  95             & 95              & 94              & ...             & 93              & 91              & 83              & 77              & 79              & 84              & 85              & 85              & 81              & 86             \\\\\n",
       "\t 현재생활형편CSI & 남자            & 소비자동향      & NA              & 94              & 94              & 95              &  94             & 95              & 94              & ...             & 93              & 91              & 82              & 76              & 79              & 84              & 85              & 85              & 81              & 86             \\\\\n",
       "\t 현재생활형편CSI & 여자            & 소비자동향      & NA              & 95              & 94              & 95              &  95             & 97              & 95              & ...             & 95              & 94              & 84              & 79              & 80              & 85              & 86              & 86              & 81              & 86             \\\\\n",
       "\t 현재생활형편CSI & 40세미만        & 소비자동향      & NA              & 96              & 98              & 99              & 100             & 98              & 99              & ...             & 97              & 96              & 90              & 87              & 87              & 90              & 90              & 91              & 87              & 92             \\\\\n",
       "\t 현재생활형편CSI & 40-50세         & 소비자동향      & NA              & 96              & 93              & 96              &  95             & 96              & 94              & ...             & 96              & 96              & 85              & 77              & 81              & 86              & 87              & 86              & 83              & 89             \\\\\n",
       "\t 현재생활형편CSI & 50-60세         & 소비자동향      & NA              & 93              & 95              & 95              &  94             & 95              & 92              & ...             & 91              & 90              & 79              & 73              & 74              & 77              & 82              & 83              & 78              & 83             \\\\\n",
       "\\end{tabular}\n"
      ],
      "text/markdown": [
       "\n",
       "| 지수코드별 | 분류코드별 | 항목 | 단위 | 2018. 01 월 | 2018. 02 월 | 2018. 03 월 | 2018. 04 월 | 2018. 05 월 | 2018. 06 월 | ... | 2020. 01 월 | 2020. 02 월 | 2020. 03 월 | 2020. 04 월 | 2020. 05 월 | 2020. 06 월 | 2020. 07 월 | 2020. 08 월 | 2020. 09 월 | 2020. 10 월 |\n",
       "|---|---|---|---|---|---|---|---|---|---|---|---|---|---|---|---|---|---|---|---|---|\n",
       "| 현재생활형편CSI | 전체            | 소비자동향      | NA              | 94              | 94              | 95              |  95             | 95              | 94              | ...             | 93              | 91              | 83              | 77              | 79              | 84              | 85              | 85              | 81              | 86              |\n",
       "| 현재생활형편CSI | 남자            | 소비자동향      | NA              | 94              | 94              | 95              |  94             | 95              | 94              | ...             | 93              | 91              | 82              | 76              | 79              | 84              | 85              | 85              | 81              | 86              |\n",
       "| 현재생활형편CSI | 여자            | 소비자동향      | NA              | 95              | 94              | 95              |  95             | 97              | 95              | ...             | 95              | 94              | 84              | 79              | 80              | 85              | 86              | 86              | 81              | 86              |\n",
       "| 현재생활형편CSI | 40세미만        | 소비자동향      | NA              | 96              | 98              | 99              | 100             | 98              | 99              | ...             | 97              | 96              | 90              | 87              | 87              | 90              | 90              | 91              | 87              | 92              |\n",
       "| 현재생활형편CSI | 40-50세         | 소비자동향      | NA              | 96              | 93              | 96              |  95             | 96              | 94              | ...             | 96              | 96              | 85              | 77              | 81              | 86              | 87              | 86              | 83              | 89              |\n",
       "| 현재생활형편CSI | 50-60세         | 소비자동향      | NA              | 93              | 95              | 95              |  94             | 95              | 92              | ...             | 91              | 90              | 79              | 73              | 74              | 77              | 82              | 83              | 78              | 83              |\n",
       "\n"
      ],
      "text/plain": [
       "  지수코드별      분류코드별 항목       단위 2018. 01 월 2018. 02 월\n",
       "1 현재생활형편CSI 전체       소비자동향 NA   94          94         \n",
       "2 현재생활형편CSI 남자       소비자동향 NA   94          94         \n",
       "3 현재생활형편CSI 여자       소비자동향 NA   95          94         \n",
       "4 현재생활형편CSI 40세미만   소비자동향 NA   96          98         \n",
       "5 현재생활형편CSI 40-50세    소비자동향 NA   96          93         \n",
       "6 현재생활형편CSI 50-60세    소비자동향 NA   93          95         \n",
       "  2018. 03 월 2018. 04 월 2018. 05 월 2018. 06 월 ... 2020. 01 월 2020. 02 월\n",
       "1 95           95         95          94          ... 93          91         \n",
       "2 95           94         95          94          ... 93          91         \n",
       "3 95           95         97          95          ... 95          94         \n",
       "4 99          100         98          99          ... 97          96         \n",
       "5 96           95         96          94          ... 96          96         \n",
       "6 95           94         95          92          ... 91          90         \n",
       "  2020. 03 월 2020. 04 월 2020. 05 월 2020. 06 월 2020. 07 월 2020. 08 월\n",
       "1 83          77          79          84          85          85         \n",
       "2 82          76          79          84          85          85         \n",
       "3 84          79          80          85          86          86         \n",
       "4 90          87          87          90          90          91         \n",
       "5 85          77          81          86          87          86         \n",
       "6 79          73          74          77          82          83         \n",
       "  2020. 09 월 2020. 10 월\n",
       "1 81          86         \n",
       "2 81          86         \n",
       "3 81          86         \n",
       "4 87          92         \n",
       "5 83          89         \n",
       "6 78          83         "
      ]
     },
     "metadata": {},
     "output_type": "display_data"
    }
   ],
   "source": [
    "setwd('C:/Users/cptas')\n",
    "install.packages('agricolae')\n",
    "library(dplyr)\n",
    "library(ggplot2)\n",
    "library(readxl)\n",
    "library(reshape2)\n",
    "library(agricolae)\n",
    "\n",
    "data <- read_excel('월별소비자동향조사.xlsx')\n",
    "head(data)"
   ]
  },
  {
   "cell_type": "code",
   "execution_count": 2,
   "metadata": {},
   "outputs": [],
   "source": [
    "#자영업자, 봉급생활자 비교\n",
    "data1 <- data %>%\n",
    "  filter(분류코드별 %in% c('자영업자', '봉급생활자')) %>% \n",
    "  filter(지수코드별 %in% c('임금수준전망CSI', '현재생활형편CSI',\n",
    "                      '현재경기판단CSI', '생활형편전망CSI', '향후경기전망CSI')) %>% \n",
    "  select(-항목, -단위) %>% \n",
    "  melt(id.vars=c('지수코드별', '분류코드별'))\n",
    "\n",
    "data1$지수코드별 = as.factor(data1$지수코드별)\n",
    "data1$분류코드별 = as.factor(data1$분류코드별)\n",
    "\n",
    "data1_b <- data1[c(1:240), ]\n",
    "data1_a <- data1[c(241:340), ]\n",
    "data1_ao <- data1_a %>%\n",
    "  filter(분류코드별 == '자영업자')\n",
    "data1_as <- data1_a %>%\n",
    "  filter(분류코드별 == '봉급생활자')\n",
    "data1_bo <- data1_b %>%\n",
    "  filter(분류코드별 == '자영업자')\n",
    "data1_bs <- data1_b %>%\n",
    "  filter(분류코드별 == '봉급생활자')"
   ]
  },
  {
   "cell_type": "code",
   "execution_count": 3,
   "metadata": {},
   "outputs": [
    {
     "data": {
      "text/plain": [
       "\n",
       "\tShapiro-Wilk normality test\n",
       "\n",
       "data:  b$value\n",
       "W = 0.90762, p-value = 0.03133\n"
      ]
     },
     "metadata": {},
     "output_type": "display_data"
    },
    {
     "data": {
      "text/plain": [
       "\n",
       "\tF test to compare two variances\n",
       "\n",
       "data:  a$value and b$value\n",
       "F = 2.2294, num df = 23, denom df = 23, p-value = 0.06046\n",
       "alternative hypothesis: true ratio of variances is not equal to 1\n",
       "95 percent confidence interval:\n",
       " 0.9644227 5.1535685\n",
       "sample estimates:\n",
       "ratio of variances \n",
       "          2.229399 \n"
      ]
     },
     "metadata": {},
     "output_type": "display_data"
    },
    {
     "data": {
      "text/plain": [
       "\n",
       "\tWelch Two Sample t-test\n",
       "\n",
       "data:  a$value and b$value\n",
       "t = 6.2835, df = 40.177, p-value = 1.854e-07\n",
       "alternative hypothesis: true difference in means is not equal to 0\n",
       "95 percent confidence interval:\n",
       " 3.731192 7.268808\n",
       "sample estimates:\n",
       "mean of x mean of y \n",
       " 122.7917  117.2917 \n"
      ]
     },
     "metadata": {},
     "output_type": "display_data"
    }
   ],
   "source": [
    "#자영업자와 봉급생활자 임금수준전망 코로나 이전\n",
    "a <- data1_bo %>% filter(지수코드별 == '임금수준전망CSI')\n",
    "b <- data1_bs %>% filter(지수코드별 == '임금수준전망CSI')\n",
    "\n",
    "shapiro.test(b$value)\n",
    "var.test(a$value, b$value)\n",
    "t.test(a$value, b$value)"
   ]
  },
  {
   "cell_type": "code",
   "execution_count": 4,
   "metadata": {},
   "outputs": [
    {
     "data": {
      "text/html": [
       "<ol class=list-inline>\n",
       "\t<li>122</li>\n",
       "\t<li>119</li>\n",
       "\t<li>111</li>\n",
       "\t<li>103</li>\n",
       "\t<li>104</li>\n",
       "\t<li>108</li>\n",
       "\t<li>114</li>\n",
       "\t<li>114</li>\n",
       "\t<li>108</li>\n",
       "\t<li>112</li>\n",
       "</ol>\n"
      ],
      "text/latex": [
       "\\begin{enumerate*}\n",
       "\\item 122\n",
       "\\item 119\n",
       "\\item 111\n",
       "\\item 103\n",
       "\\item 104\n",
       "\\item 108\n",
       "\\item 114\n",
       "\\item 114\n",
       "\\item 108\n",
       "\\item 112\n",
       "\\end{enumerate*}\n"
      ],
      "text/markdown": [
       "1. 122\n",
       "2. 119\n",
       "3. 111\n",
       "4. 103\n",
       "5. 104\n",
       "6. 108\n",
       "7. 114\n",
       "8. 114\n",
       "9. 108\n",
       "10. 112\n",
       "\n",
       "\n"
      ],
      "text/plain": [
       " [1] 122 119 111 103 104 108 114 114 108 112"
      ]
     },
     "metadata": {},
     "output_type": "display_data"
    },
    {
     "data": {
      "text/html": [
       "<ol class=list-inline>\n",
       "\t<li>117</li>\n",
       "\t<li>114</li>\n",
       "\t<li>108</li>\n",
       "\t<li>100</li>\n",
       "\t<li>102</li>\n",
       "\t<li>104</li>\n",
       "\t<li>108</li>\n",
       "\t<li>109</li>\n",
       "\t<li>103</li>\n",
       "\t<li>107</li>\n",
       "</ol>\n"
      ],
      "text/latex": [
       "\\begin{enumerate*}\n",
       "\\item 117\n",
       "\\item 114\n",
       "\\item 108\n",
       "\\item 100\n",
       "\\item 102\n",
       "\\item 104\n",
       "\\item 108\n",
       "\\item 109\n",
       "\\item 103\n",
       "\\item 107\n",
       "\\end{enumerate*}\n"
      ],
      "text/markdown": [
       "1. 117\n",
       "2. 114\n",
       "3. 108\n",
       "4. 100\n",
       "5. 102\n",
       "6. 104\n",
       "7. 108\n",
       "8. 109\n",
       "9. 103\n",
       "10. 107\n",
       "\n",
       "\n"
      ],
      "text/plain": [
       " [1] 117 114 108 100 102 104 108 109 103 107"
      ]
     },
     "metadata": {},
     "output_type": "display_data"
    },
    {
     "name": "stderr",
     "output_type": "stream",
     "text": [
      "Warning message in wilcox.test.default(x$value, y$value):\n",
      "\"cannot compute exact p-value with ties\""
     ]
    },
    {
     "data": {
      "text/plain": [
       "\n",
       "\tWilcoxon rank sum test with continuity correction\n",
       "\n",
       "data:  x$value and y$value\n",
       "W = 71, p-value = 0.119\n",
       "alternative hypothesis: true location shift is not equal to 0\n"
      ]
     },
     "metadata": {},
     "output_type": "display_data"
    }
   ],
   "source": [
    "#자영업자와 봉급생활자 임금수준전망 코로나 이후\n",
    "x <- data1_ao %>% filter(지수코드별 == '임금수준전망CSI')\n",
    "x$value\n",
    "y <- data1_as %>% filter(지수코드별 == '임금수준전망CSI')\n",
    "y$value\n",
    "wilcox.test(x$value, y$value)"
   ]
  },
  {
   "cell_type": "code",
   "execution_count": 5,
   "metadata": {},
   "outputs": [
    {
     "data": {
      "text/plain": [
       "\n",
       "\tShapiro-Wilk normality test\n",
       "\n",
       "data:  a$value\n",
       "W = 0.94007, p-value = 0.1637\n"
      ]
     },
     "metadata": {},
     "output_type": "display_data"
    },
    {
     "data": {
      "text/plain": [
       "\n",
       "\tShapiro-Wilk normality test\n",
       "\n",
       "data:  b$value\n",
       "W = 0.93541, p-value = 0.1288\n"
      ]
     },
     "metadata": {},
     "output_type": "display_data"
    },
    {
     "data": {
      "text/plain": [
       "\n",
       "\tF test to compare two variances\n",
       "\n",
       "data:  a$value and b$value\n",
       "F = 0.7671, num df = 23, denom df = 23, p-value = 0.53\n",
       "alternative hypothesis: true ratio of variances is not equal to 1\n",
       "95 percent confidence interval:\n",
       " 0.3318437 1.7732672\n",
       "sample estimates:\n",
       "ratio of variances \n",
       "         0.7671033 \n"
      ]
     },
     "metadata": {},
     "output_type": "display_data"
    },
    {
     "data": {
      "text/plain": [
       "\n",
       "\tWelch Two Sample t-test\n",
       "\n",
       "data:  a$value and b$value\n",
       "t = -13.489, df = 45.215, p-value < 2.2e-16\n",
       "alternative hypothesis: true difference in means is not equal to 0\n",
       "95 percent confidence interval:\n",
       " -9.385906 -6.947427\n",
       "sample estimates:\n",
       "mean of x mean of y \n",
       " 87.08333  95.25000 \n"
      ]
     },
     "metadata": {},
     "output_type": "display_data"
    }
   ],
   "source": [
    "#자영업자와 봉급생활자 현재생활형편 코로나 이전\n",
    "a <- data1_bo %>% filter(지수코드별 == '현재생활형편CSI')\n",
    "b <- data1_bs %>% filter(지수코드별 == '현재생활형편CSI')\n",
    "\n",
    "shapiro.test(a$value)\n",
    "shapiro.test(b$value)\n",
    "var.test(a$value, b$value)\n",
    "t.test(a$value, b$value)"
   ]
  },
  {
   "cell_type": "code",
   "execution_count": 6,
   "metadata": {},
   "outputs": [
    {
     "data": {
      "text/html": [
       "<ol class=list-inline>\n",
       "\t<li>89</li>\n",
       "\t<li>84</li>\n",
       "\t<li>66</li>\n",
       "\t<li>57</li>\n",
       "\t<li>60</li>\n",
       "\t<li>69</li>\n",
       "\t<li>75</li>\n",
       "\t<li>76</li>\n",
       "\t<li>68</li>\n",
       "\t<li>77</li>\n",
       "</ol>\n"
      ],
      "text/latex": [
       "\\begin{enumerate*}\n",
       "\\item 89\n",
       "\\item 84\n",
       "\\item 66\n",
       "\\item 57\n",
       "\\item 60\n",
       "\\item 69\n",
       "\\item 75\n",
       "\\item 76\n",
       "\\item 68\n",
       "\\item 77\n",
       "\\end{enumerate*}\n"
      ],
      "text/markdown": [
       "1. 89\n",
       "2. 84\n",
       "3. 66\n",
       "4. 57\n",
       "5. 60\n",
       "6. 69\n",
       "7. 75\n",
       "8. 76\n",
       "9. 68\n",
       "10. 77\n",
       "\n",
       "\n"
      ],
      "text/plain": [
       " [1] 89 84 66 57 60 69 75 76 68 77"
      ]
     },
     "metadata": {},
     "output_type": "display_data"
    },
    {
     "data": {
      "text/html": [
       "<ol class=list-inline>\n",
       "\t<li>97</li>\n",
       "\t<li>96</li>\n",
       "\t<li>89</li>\n",
       "\t<li>84</li>\n",
       "\t<li>86</li>\n",
       "\t<li>90</li>\n",
       "\t<li>90</li>\n",
       "\t<li>90</li>\n",
       "\t<li>86</li>\n",
       "\t<li>91</li>\n",
       "</ol>\n"
      ],
      "text/latex": [
       "\\begin{enumerate*}\n",
       "\\item 97\n",
       "\\item 96\n",
       "\\item 89\n",
       "\\item 84\n",
       "\\item 86\n",
       "\\item 90\n",
       "\\item 90\n",
       "\\item 90\n",
       "\\item 86\n",
       "\\item 91\n",
       "\\end{enumerate*}\n"
      ],
      "text/markdown": [
       "1. 97\n",
       "2. 96\n",
       "3. 89\n",
       "4. 84\n",
       "5. 86\n",
       "6. 90\n",
       "7. 90\n",
       "8. 90\n",
       "9. 86\n",
       "10. 91\n",
       "\n",
       "\n"
      ],
      "text/plain": [
       " [1] 97 96 89 84 86 90 90 90 86 91"
      ]
     },
     "metadata": {},
     "output_type": "display_data"
    },
    {
     "data": {
      "text/plain": [
       "\n",
       "\tShapiro-Wilk normality test\n",
       "\n",
       "data:  x$value\n",
       "W = 0.97504, p-value = 0.9333\n"
      ]
     },
     "metadata": {},
     "output_type": "display_data"
    },
    {
     "data": {
      "text/plain": [
       "\n",
       "\tShapiro-Wilk normality test\n",
       "\n",
       "data:  y$value\n",
       "W = 0.92075, p-value = 0.3632\n"
      ]
     },
     "metadata": {},
     "output_type": "display_data"
    },
    {
     "data": {
      "text/plain": [
       "\n",
       "\tF test to compare two variances\n",
       "\n",
       "data:  x$value and y$value\n",
       "F = 5.8935, num df = 9, denom df = 9, p-value = 0.0144\n",
       "alternative hypothesis: true ratio of variances is not equal to 1\n",
       "95 percent confidence interval:\n",
       "  1.463857 23.727115\n",
       "sample estimates:\n",
       "ratio of variances \n",
       "           5.89348 \n"
      ]
     },
     "metadata": {},
     "output_type": "display_data"
    },
    {
     "data": {
      "text/plain": [
       "\n",
       "\tWelch Two Sample t-test\n",
       "\n",
       "data:  x$value and y$value\n",
       "t = -5.1677, df = 11.969, p-value = 0.000236\n",
       "alternative hypothesis: true difference in means is not equal to 0\n",
       "95 percent confidence interval:\n",
       " -25.30705 -10.29295\n",
       "sample estimates:\n",
       "mean of x mean of y \n",
       "     72.1      89.9 \n"
      ]
     },
     "metadata": {},
     "output_type": "display_data"
    }
   ],
   "source": [
    "#자영업자와 봉급생활자 현재생활형편 코로나 이후\n",
    "x <- data1_ao %>% filter(지수코드별 == '현재생활형편CSI')\n",
    "x$value\n",
    "y <- data1_as %>% filter(지수코드별 == '현재생활형편CSI')\n",
    "y$value\n",
    "shapiro.test(x$value)\n",
    "shapiro.test(y$value)\n",
    "var.test(x$value, y$value)\n",
    "t.test(x$value, y$value, var.equal = F)"
   ]
  },
  {
   "cell_type": "code",
   "execution_count": 7,
   "metadata": {},
   "outputs": [
    {
     "name": "stderr",
     "output_type": "stream",
     "text": [
      "Warning message in wilcox.test.default(a$value, b$value):\n",
      "\"cannot compute exact p-value with ties\""
     ]
    },
    {
     "data": {
      "text/plain": [
       "\n",
       "\tWilcoxon rank sum test with continuity correction\n",
       "\n",
       "data:  a$value and b$value\n",
       "W = 144, p-value = 0.003034\n",
       "alternative hypothesis: true location shift is not equal to 0\n"
      ]
     },
     "metadata": {},
     "output_type": "display_data"
    }
   ],
   "source": [
    "#자영업자와 봉급생활자 향후경기전망 코로나 이전\n",
    "a <- data1_bo %>% filter(지수코드별 == '향후경기전망CSI')\n",
    "b <- data1_bs %>% filter(지수코드별 == '향후경기전망CSI')\n",
    "\n",
    "wilcox.test(a$value, b$value)"
   ]
  },
  {
   "cell_type": "code",
   "execution_count": 8,
   "metadata": {},
   "outputs": [
    {
     "data": {
      "text/html": [
       "<ol class=list-inline>\n",
       "\t<li>85</li>\n",
       "\t<li>71</li>\n",
       "\t<li>59</li>\n",
       "\t<li>54</li>\n",
       "\t<li>64</li>\n",
       "\t<li>66</li>\n",
       "\t<li>69</li>\n",
       "\t<li>73</li>\n",
       "\t<li>62</li>\n",
       "\t<li>80</li>\n",
       "</ol>\n"
      ],
      "text/latex": [
       "\\begin{enumerate*}\n",
       "\\item 85\n",
       "\\item 71\n",
       "\\item 59\n",
       "\\item 54\n",
       "\\item 64\n",
       "\\item 66\n",
       "\\item 69\n",
       "\\item 73\n",
       "\\item 62\n",
       "\\item 80\n",
       "\\end{enumerate*}\n"
      ],
      "text/markdown": [
       "1. 85\n",
       "2. 71\n",
       "3. 59\n",
       "4. 54\n",
       "5. 64\n",
       "6. 66\n",
       "7. 69\n",
       "8. 73\n",
       "9. 62\n",
       "10. 80\n",
       "\n",
       "\n"
      ],
      "text/plain": [
       " [1] 85 71 59 54 64 66 69 73 62 80"
      ]
     },
     "metadata": {},
     "output_type": "display_data"
    },
    {
     "data": {
      "text/html": [
       "<ol class=list-inline>\n",
       "\t<li>90</li>\n",
       "\t<li>80</li>\n",
       "\t<li>65</li>\n",
       "\t<li>64</li>\n",
       "\t<li>70</li>\n",
       "\t<li>73</li>\n",
       "\t<li>73</li>\n",
       "\t<li>78</li>\n",
       "\t<li>70</li>\n",
       "\t<li>86</li>\n",
       "</ol>\n"
      ],
      "text/latex": [
       "\\begin{enumerate*}\n",
       "\\item 90\n",
       "\\item 80\n",
       "\\item 65\n",
       "\\item 64\n",
       "\\item 70\n",
       "\\item 73\n",
       "\\item 73\n",
       "\\item 78\n",
       "\\item 70\n",
       "\\item 86\n",
       "\\end{enumerate*}\n"
      ],
      "text/markdown": [
       "1. 90\n",
       "2. 80\n",
       "3. 65\n",
       "4. 64\n",
       "5. 70\n",
       "6. 73\n",
       "7. 73\n",
       "8. 78\n",
       "9. 70\n",
       "10. 86\n",
       "\n",
       "\n"
      ],
      "text/plain": [
       " [1] 90 80 65 64 70 73 73 78 70 86"
      ]
     },
     "metadata": {},
     "output_type": "display_data"
    },
    {
     "data": {
      "text/plain": [
       "\n",
       "\tShapiro-Wilk normality test\n",
       "\n",
       "data:  x$value\n",
       "W = 0.98206, p-value = 0.9752\n"
      ]
     },
     "metadata": {},
     "output_type": "display_data"
    },
    {
     "data": {
      "text/plain": [
       "\n",
       "\tShapiro-Wilk normality test\n",
       "\n",
       "data:  y$value\n",
       "W = 0.94482, p-value = 0.6078\n"
      ]
     },
     "metadata": {},
     "output_type": "display_data"
    },
    {
     "data": {
      "text/plain": [
       "\n",
       "\tF test to compare two variances\n",
       "\n",
       "data:  x$value and y$value\n",
       "F = 1.2143, num df = 9, denom df = 9, p-value = 0.7771\n",
       "alternative hypothesis: true ratio of variances is not equal to 1\n",
       "95 percent confidence interval:\n",
       " 0.3016141 4.8887508\n",
       "sample estimates:\n",
       "ratio of variances \n",
       "          1.214297 \n"
      ]
     },
     "metadata": {},
     "output_type": "display_data"
    },
    {
     "data": {
      "text/plain": [
       "\n",
       "\tTwo Sample t-test\n",
       "\n",
       "data:  x$value and y$value\n",
       "t = -1.6392, df = 18, p-value = 0.1185\n",
       "alternative hypothesis: true difference in means is not equal to 0\n",
       "95 percent confidence interval:\n",
       " -15.058947   1.858947\n",
       "sample estimates:\n",
       "mean of x mean of y \n",
       "     68.3      74.9 \n"
      ]
     },
     "metadata": {},
     "output_type": "display_data"
    }
   ],
   "source": [
    "#자영업자와 봉급생활자 향후경기전망 코로나 이후\n",
    "x <- data1_ao %>% filter(지수코드별 == '향후경기전망CSI')\n",
    "x$value\n",
    "y <- data1_as %>% filter(지수코드별 == '향후경기전망CSI')\n",
    "y$value\n",
    "shapiro.test(x$value)\n",
    "shapiro.test(y$value)\n",
    "var.test(x$value, y$value)\n",
    "t.test(x$value, y$value, var.equal = T)"
   ]
  },
  {
   "cell_type": "code",
   "execution_count": 9,
   "metadata": {},
   "outputs": [
    {
     "data": {
      "text/html": [
       "<ol class=list-inline>\n",
       "\t<li>2244</li>\n",
       "\t<li>4</li>\n",
       "</ol>\n"
      ],
      "text/latex": [
       "\\begin{enumerate*}\n",
       "\\item 2244\n",
       "\\item 4\n",
       "\\end{enumerate*}\n"
      ],
      "text/markdown": [
       "1. 2244\n",
       "2. 4\n",
       "\n",
       "\n"
      ],
      "text/plain": [
       "[1] 2244    4"
      ]
     },
     "metadata": {},
     "output_type": "display_data"
    }
   ],
   "source": [
    "#소득별 비교\n",
    "data2 <- data %>%\n",
    "  filter(분류코드별 %in% c('100만원미만', '100-200만원', '200-300만원', '300-400만원', '400-500만원', '500만원이상')) %>% \n",
    "  filter(지수코드별 %in% c('가계수입전망CSI', '현재가계저축CSI', '가계저축전망CSI', '주택가격전망CSI', '소비지출전망CSI', '의료·보건비 지출전망CSI', '교양·오락·문화생활비 지출전망CSI', '의류비 지출전망CSI', '외식비 지출전망CSI', '여행비 지출전망CSI', '교육비 지출전망CSI')) %>% \n",
    "  select(-항목, -단위) %>% \n",
    "  melt(id.vars=c('지수코드별', '분류코드별'))\n",
    "\n",
    "data2$지수코드별 = as.factor(data2$지수코드별)\n",
    "data2$분류코드별 = as.factor(data2$분류코드별)\n",
    "dim(data2)\n",
    "data2_b <- data2[c(1:1584), ]\n",
    "data2_a <- data2[c(1585:2244), ]"
   ]
  },
  {
   "cell_type": "code",
   "execution_count": 10,
   "metadata": {},
   "outputs": [
    {
     "data": {
      "text/plain": [
       "            Df Sum Sq Mean Sq F value Pr(>F)    \n",
       "분류코드별   5 2423.9   484.8  129.03 <2e-16 ***\n",
       "variable     9 1616.9   179.7   47.82 <2e-16 ***\n",
       "Residuals   45  169.1     3.8                   \n",
       "---\n",
       "Signif. codes:  0 '***' 0.001 '**' 0.01 '*' 0.05 '.' 0.1 ' ' 1"
      ]
     },
     "metadata": {},
     "output_type": "display_data"
    },
    {
     "data": {
      "text/plain": [
       "$statistics\n",
       "   MSerror Df     Mean       CV     MSD\n",
       "  3.757037 45 88.03333 2.201788 2.57969\n",
       "\n",
       "$parameters\n",
       "   test     name.t ntr StudentizedRange alpha\n",
       "  Tukey 분류코드별   6         4.208669  0.05\n",
       "\n",
       "$means\n",
       "            value      std  r Min Max   Q25  Q50   Q75\n",
       "100-200만원  82.7 5.888784 10  72  93 80.00 81.5 85.75\n",
       "100만원미만  77.5 6.770032 10  67  89 73.00 77.5 79.00\n",
       "200-300만원  88.2 5.846176 10  81  99 84.50 87.0 91.00\n",
       "300-400만원  90.3 5.657836 10  82 102 87.00 89.5 93.25\n",
       "400-500만원  92.8 4.871687 10  87 103 90.00 91.0 96.00\n",
       "500만원이상  96.7 5.292552 10  90 107 92.75 95.5 99.25\n",
       "\n",
       "$comparison\n",
       "NULL\n",
       "\n",
       "$groups\n",
       "            value groups\n",
       "500만원이상  96.7      a\n",
       "400-500만원  92.8      b\n",
       "300-400만원  90.3     bc\n",
       "200-300만원  88.2      c\n",
       "100-200만원  82.7      d\n",
       "100만원미만  77.5      e\n",
       "\n",
       "attr(,\"class\")\n",
       "[1] \"group\""
      ]
     },
     "metadata": {},
     "output_type": "display_data"
    }
   ],
   "source": [
    "#소득별 가계수입전망 코로나 이후\n",
    "model1 = aov(value ~ 분류코드별 + variable, data=data2_a[data2_a$지수코드별 == '가계수입전망CSI', ])\n",
    "summary(model1)\n",
    "a=HSD.test(model1, '분류코드별', group=TRUE)\n",
    "a"
   ]
  },
  {
   "cell_type": "code",
   "execution_count": 11,
   "metadata": {},
   "outputs": [
    {
     "data": {
      "text/plain": [
       "             Df Sum Sq Mean Sq F value   Pr(>F)    \n",
       "분류코드별    5   3954   790.9 183.301  < 2e-16 ***\n",
       "variable     23    816    35.5   8.222 2.69e-15 ***\n",
       "Residuals   115    496     4.3                     \n",
       "---\n",
       "Signif. codes:  0 '***' 0.001 '**' 0.01 '*' 0.05 '.' 0.1 ' ' 1"
      ]
     },
     "metadata": {},
     "output_type": "display_data"
    },
    {
     "data": {
      "text/plain": [
       "$statistics\n",
       "   MSerror  Df     Mean       CV      MSD\n",
       "  4.314734 115 97.15278 2.138069 1.737947\n",
       "\n",
       "$parameters\n",
       "   test     name.t ntr StudentizedRange alpha\n",
       "  Tukey 분류코드별   6          4.09888  0.05\n",
       "\n",
       "$means\n",
       "                value      std  r Min Max    Q25 Q50    Q75\n",
       "100-200만원  92.87500 3.068954 24  88 100  91.00  92  95.00\n",
       "100만원미만  88.29167 3.263489 24  81  96  87.00  88  90.00\n",
       "200-300만원  97.66667 2.530968 24  93 103  96.00  97  99.25\n",
       "300-400만원  98.45833 3.361924 24  94 106  95.75  98 100.25\n",
       "400-500만원 101.83333 3.459915 24  96 109  99.00 102 105.00\n",
       "500만원이상 103.79167 2.702321 24 100 111 102.00 103 105.00\n",
       "\n",
       "$comparison\n",
       "NULL\n",
       "\n",
       "$groups\n",
       "                value groups\n",
       "500만원이상 103.79167      a\n",
       "400-500만원 101.83333      b\n",
       "300-400만원  98.45833      c\n",
       "200-300만원  97.66667      c\n",
       "100-200만원  92.87500      d\n",
       "100만원미만  88.29167      e\n",
       "\n",
       "attr(,\"class\")\n",
       "[1] \"group\""
      ]
     },
     "metadata": {},
     "output_type": "display_data"
    }
   ],
   "source": [
    "#소득별 가계수입전망 코로나 이전\n",
    "model2 = aov(value ~ 분류코드별 + variable, data=data2_b[data2_b$지수코드별 == '가계수입전망CSI', ])\n",
    "summary(model2)\n",
    "b=HSD.test(model2, '분류코드별', group=TRUE)\n",
    "b"
   ]
  },
  {
   "cell_type": "code",
   "execution_count": 12,
   "metadata": {},
   "outputs": [
    {
     "data": {
      "text/plain": [
       "            Df Sum Sq Mean Sq F value   Pr(>F)    \n",
       "분류코드별   5    272    54.4   8.447 1.07e-05 ***\n",
       "variable     9   5905   656.1 101.909  < 2e-16 ***\n",
       "Residuals   45    290     6.4                     \n",
       "---\n",
       "Signif. codes:  0 '***' 0.001 '**' 0.01 '*' 0.05 '.' 0.1 ' ' 1"
      ]
     },
     "metadata": {},
     "output_type": "display_data"
    },
    {
     "data": {
      "text/plain": [
       "$statistics\n",
       "   MSerror Df     Mean      CV      MSD\n",
       "  6.438519 45 114.1333 2.22321 3.377052\n",
       "\n",
       "$parameters\n",
       "   test     name.t ntr StudentizedRange alpha\n",
       "  Tukey 분류코드별   6         4.208669  0.05\n",
       "\n",
       "$means\n",
       "            value      std  r Min Max    Q25   Q50    Q75\n",
       "100-200만원 117.3 11.34362 10  99 132 111.25 117.0 126.25\n",
       "100만원미만 114.8 11.66000 10  97 129 109.25 113.5 124.00\n",
       "200-300만원 115.5 10.18986 10  97 129 112.50 117.0 121.50\n",
       "300-400만원 112.6 10.45838 10  94 126 111.75 114.5 119.00\n",
       "400-500만원 114.0  9.69536 10  97 126 113.00 115.5 120.25\n",
       "500만원이상 110.6 10.79300 10  92 124 109.25 111.5 118.50\n",
       "\n",
       "$comparison\n",
       "NULL\n",
       "\n",
       "$groups\n",
       "            value groups\n",
       "100-200만원 117.3      a\n",
       "200-300만원 115.5     ab\n",
       "100만원미만 114.8     ab\n",
       "400-500만원 114.0     ab\n",
       "300-400만원 112.6     bc\n",
       "500만원이상 110.6      c\n",
       "\n",
       "attr(,\"class\")\n",
       "[1] \"group\""
      ]
     },
     "metadata": {},
     "output_type": "display_data"
    }
   ],
   "source": [
    "#소득별 주택가격전망 코로나 이후\n",
    "model1 = aov(value ~ 분류코드별 + variable, data=data2_a[data2_a$지수코드별 == '주택가격전망CSI', ])\n",
    "summary(model1)\n",
    "a=HSD.test(model1, '분류코드별', group=TRUE)\n",
    "a"
   ]
  },
  {
   "cell_type": "code",
   "execution_count": 13,
   "metadata": {},
   "outputs": [
    {
     "data": {
      "text/plain": [
       "             Df Sum Sq Mean Sq F value Pr(>F)    \n",
       "분류코드별    5   1145   228.9   34.48 <2e-16 ***\n",
       "variable     23  18806   817.6  123.14 <2e-16 ***\n",
       "Residuals   115    764     6.6                   \n",
       "---\n",
       "Signif. codes:  0 '***' 0.001 '**' 0.01 '*' 0.05 '.' 0.1 ' ' 1"
      ]
     },
     "metadata": {},
     "output_type": "display_data"
    },
    {
     "data": {
      "text/plain": [
       "$statistics\n",
       "   MSerror  Df     Mean       CV     MSD\n",
       "  6.640097 115 104.7361 2.460315 2.15599\n",
       "\n",
       "$parameters\n",
       "   test     name.t ntr StudentizedRange alpha\n",
       "  Tukey 분류코드별   6          4.09888  0.05\n",
       "\n",
       "$means\n",
       "               value      std  r Min Max    Q25   Q50    Q75\n",
       "100-200만원 108.2917 10.71967 24  88 129 102.25 108.0 115.25\n",
       "100만원미만 107.9583 11.21908 24  88 137 100.75 108.5 113.50\n",
       "200-300만원 105.5000 11.51181 24  86 130  99.00 105.0 110.25\n",
       "300-400만원 102.5000 12.11539 24  82 130  94.00 103.0 108.50\n",
       "400-500만원 103.6667 12.31707 24  81 126  97.00 105.0 111.25\n",
       "500만원이상 100.5000 13.38071 24  78 125  92.00 100.5 108.50\n",
       "\n",
       "$comparison\n",
       "NULL\n",
       "\n",
       "$groups\n",
       "               value groups\n",
       "100-200만원 108.2917      a\n",
       "100만원미만 107.9583      a\n",
       "200-300만원 105.5000      b\n",
       "400-500만원 103.6667     bc\n",
       "300-400만원 102.5000     cd\n",
       "500만원이상 100.5000      d\n",
       "\n",
       "attr(,\"class\")\n",
       "[1] \"group\""
      ]
     },
     "metadata": {},
     "output_type": "display_data"
    }
   ],
   "source": [
    "#소득별 주택가격전망 코로나 이전\n",
    "model2 = aov(value ~ 분류코드별 + variable, data=data2_b[data2_b$지수코드별 == '주택가격전망CSI', ])\n",
    "summary(model2)\n",
    "b=HSD.test(model2, '분류코드별', group=TRUE)\n",
    "b"
   ]
  },
  {
   "cell_type": "code",
   "execution_count": 14,
   "metadata": {},
   "outputs": [
    {
     "data": {
      "text/plain": [
       "            Df Sum Sq Mean Sq F value Pr(>F)    \n",
       "분류코드별   5 1620.4   324.1   68.60 <2e-16 ***\n",
       "variable     9 2597.4   288.6   61.09 <2e-16 ***\n",
       "Residuals   45  212.6     4.7                   \n",
       "---\n",
       "Signif. codes:  0 '***' 0.001 '**' 0.01 '*' 0.05 '.' 0.1 ' ' 1"
      ]
     },
     "metadata": {},
     "output_type": "display_data"
    },
    {
     "data": {
      "text/plain": [
       "$statistics\n",
       "   MSerror Df Mean       CV      MSD\n",
       "  4.724444 45 94.6 2.297652 2.892812\n",
       "\n",
       "$parameters\n",
       "   test     name.t ntr StudentizedRange alpha\n",
       "  Tukey 분류코드별   6         4.208669  0.05\n",
       "\n",
       "$means\n",
       "            value      std  r Min Max   Q25  Q50    Q75\n",
       "100-200만원  90.8 6.579429 10  80 103 87.25 89.0  94.00\n",
       "100만원미만  86.3 7.513691 10  75 100 81.50 85.5  89.25\n",
       "200-300만원  93.6 6.979335 10  84 108 89.50 92.0  96.75\n",
       "300-400만원  95.7 6.600505 10  87 107 91.00 93.0 100.00\n",
       "400-500만원  99.1 7.504813 10  89 112 95.25 97.0 103.75\n",
       "500만원이상 102.1 7.992357 10  92 117 97.25 99.0 107.00\n",
       "\n",
       "$comparison\n",
       "NULL\n",
       "\n",
       "$groups\n",
       "            value groups\n",
       "500만원이상 102.1      a\n",
       "400-500만원  99.1      b\n",
       "300-400만원  95.7      c\n",
       "200-300만원  93.6     cd\n",
       "100-200만원  90.8      d\n",
       "100만원미만  86.3      e\n",
       "\n",
       "attr(,\"class\")\n",
       "[1] \"group\""
      ]
     },
     "metadata": {},
     "output_type": "display_data"
    }
   ],
   "source": [
    "#소득별 소비지출전망 코로나 이후\n",
    "model1 = aov(value ~ 분류코드별 + variable, data=data2_a[data2_a$지수코드별 == '소비지출전망CSI', ])\n",
    "summary(model1)\n",
    "a=HSD.test(model1, '분류코드별', group=TRUE)\n",
    "a"
   ]
  },
  {
   "cell_type": "code",
   "execution_count": 15,
   "metadata": {},
   "outputs": [
    {
     "data": {
      "text/plain": [
       "             Df Sum Sq Mean Sq F value   Pr(>F)    \n",
       "분류코드별    5   4772   954.3 206.411  < 2e-16 ***\n",
       "variable     23    390    17.0   3.666 1.95e-06 ***\n",
       "Residuals   115    532     4.6                     \n",
       "---\n",
       "Signif. codes:  0 '***' 0.001 '**' 0.01 '*' 0.05 '.' 0.1 ' ' 1"
      ]
     },
     "metadata": {},
     "output_type": "display_data"
    },
    {
     "data": {
      "text/plain": [
       "$statistics\n",
       "  MSerror  Df     Mean       CV      MSD\n",
       "  4.62343 115 106.3611 2.021619 1.799044\n",
       "\n",
       "$parameters\n",
       "   test     name.t ntr StudentizedRange alpha\n",
       "  Tukey 분류코드별   6          4.09888  0.05\n",
       "\n",
       "$means\n",
       "                value      std  r Min Max    Q25   Q50    Q75\n",
       "100-200만원 101.16667 3.088079 24  95 106  99.75 101.0 104.00\n",
       "100만원미만  96.91667 2.764946 24  92 103  95.00  97.0  98.00\n",
       "200-300만원 105.91667 2.104171 24 103 110 105.00 105.5 107.25\n",
       "300-400만원 109.29167 2.493106 24 103 115 109.00 109.0 111.00\n",
       "400-500만원 112.50000 2.766256 24 105 117 111.00 113.5 114.25\n",
       "500만원이상 112.37500 2.142987 24 107 116 111.00 112.0 114.00\n",
       "\n",
       "$comparison\n",
       "NULL\n",
       "\n",
       "$groups\n",
       "                value groups\n",
       "400-500만원 112.50000      a\n",
       "500만원이상 112.37500      a\n",
       "300-400만원 109.29167      b\n",
       "200-300만원 105.91667      c\n",
       "100-200만원 101.16667      d\n",
       "100만원미만  96.91667      e\n",
       "\n",
       "attr(,\"class\")\n",
       "[1] \"group\""
      ]
     },
     "metadata": {},
     "output_type": "display_data"
    }
   ],
   "source": [
    "#소득별 소비지출전망 코로나 이전\n",
    "model2 = aov(value ~ 분류코드별 + variable, data=data2_b[data2_b$지수코드별 == '소비지출전망CSI', ])\n",
    "summary(model2)\n",
    "b=HSD.test(model2, '분류코드별', group=TRUE)\n",
    "b"
   ]
  },
  {
   "cell_type": "code",
   "execution_count": 16,
   "metadata": {},
   "outputs": [
    {
     "data": {
      "text/plain": [
       "            Df Sum Sq Mean Sq F value   Pr(>F)    \n",
       "분류코드별   5   5087  1017.4  211.44  < 2e-16 ***\n",
       "variable     9    641    71.3   14.81 8.68e-11 ***\n",
       "Residuals   45    217     4.8                     \n",
       "---\n",
       "Signif. codes:  0 '***' 0.001 '**' 0.01 '*' 0.05 '.' 0.1 ' ' 1"
      ]
     },
     "metadata": {},
     "output_type": "display_data"
    },
    {
     "data": {
      "text/plain": [
       "$statistics\n",
       "   MSerror Df     Mean       CV      MSD\n",
       "  4.811852 45 87.46667 2.507919 2.919449\n",
       "\n",
       "$parameters\n",
       "   test     name.t ntr StudentizedRange alpha\n",
       "  Tukey 분류코드별   6         4.208669  0.05\n",
       "\n",
       "$means\n",
       "            value      std  r Min Max   Q25   Q50    Q75\n",
       "100-200만원  81.4 4.376706 10  73  89  80.0  81.0  83.00\n",
       "100만원미만  71.9 6.454112 10  64  83  67.5  70.5  72.75\n",
       "200-300만원  87.6 2.836273 10  85  93  85.0  87.0  89.00\n",
       "300-400만원  89.2 2.780887 10  86  95  88.0  88.0  89.75\n",
       "400-500만원  93.4 3.204164 10  90  99  91.0  93.0  94.75\n",
       "500만원이상 101.3 2.907844 10  97 107 101.0 101.0 102.75\n",
       "\n",
       "$comparison\n",
       "NULL\n",
       "\n",
       "$groups\n",
       "            value groups\n",
       "500만원이상 101.3      a\n",
       "400-500만원  93.4      b\n",
       "300-400만원  89.2      c\n",
       "200-300만원  87.6      c\n",
       "100-200만원  81.4      d\n",
       "100만원미만  71.9      e\n",
       "\n",
       "attr(,\"class\")\n",
       "[1] \"group\""
      ]
     },
     "metadata": {},
     "output_type": "display_data"
    }
   ],
   "source": [
    "#소득별 가계저축전망 코로나 이후\n",
    "model1 = aov(value ~ 분류코드별 + variable, data=data2_a[data2_a$지수코드별 == '가계저축전망CSI', ])\n",
    "summary(model1)\n",
    "a=HSD.test(model1, '분류코드별', group=TRUE)\n",
    "a"
   ]
  },
  {
   "cell_type": "code",
   "execution_count": 17,
   "metadata": {},
   "outputs": [
    {
     "data": {
      "text/plain": [
       "             Df Sum Sq Mean Sq F value   Pr(>F)    \n",
       "분류코드별    5   7117  1423.5 315.405  < 2e-16 ***\n",
       "variable     23    254    11.0   2.446 0.000986 ***\n",
       "Residuals   115    519     4.5                     \n",
       "---\n",
       "Signif. codes:  0 '***' 0.001 '**' 0.01 '*' 0.05 '.' 0.1 ' ' 1"
      ]
     },
     "metadata": {},
     "output_type": "display_data"
    },
    {
     "data": {
      "text/plain": [
       "$statistics\n",
       "   MSerror  Df    Mean       CV      MSD\n",
       "  4.513225 115 91.9375 2.310738 1.777473\n",
       "\n",
       "$parameters\n",
       "   test     name.t ntr StudentizedRange alpha\n",
       "  Tukey 분류코드별   6          4.09888  0.05\n",
       "\n",
       "$means\n",
       "                value      std  r Min Max    Q25   Q50    Q75\n",
       "100-200만원  87.54167 2.042572 24  84  93  86.75  87.5  88.25\n",
       "100만원미만  80.37500 3.200713 24  73  87  78.00  81.0  83.00\n",
       "200-300만원  90.95833 1.398109 24  87  93  90.00  91.0  92.00\n",
       "300-400만원  93.20833 2.933749 24  87  99  91.00  93.5  95.00\n",
       "400-500만원  96.75000 2.191882 24  92 101  95.75  97.0  98.00\n",
       "500만원이상 102.79167 1.955575 24  98 106 101.75 103.0 104.00\n",
       "\n",
       "$comparison\n",
       "NULL\n",
       "\n",
       "$groups\n",
       "                value groups\n",
       "500만원이상 102.79167      a\n",
       "400-500만원  96.75000      b\n",
       "300-400만원  93.20833      c\n",
       "200-300만원  90.95833      d\n",
       "100-200만원  87.54167      e\n",
       "100만원미만  80.37500      f\n",
       "\n",
       "attr(,\"class\")\n",
       "[1] \"group\""
      ]
     },
     "metadata": {},
     "output_type": "display_data"
    }
   ],
   "source": [
    "#소득별 가계저축전망 코로나 이전\n",
    "model2 = aov(value ~ 분류코드별 + variable, data=data2_b[data2_b$지수코드별 == '가계저축전망CSI', ])\n",
    "summary(model2)\n",
    "b=HSD.test(model2, '분류코드별', group=TRUE)\n",
    "b"
   ]
  },
  {
   "cell_type": "code",
   "execution_count": 18,
   "metadata": {},
   "outputs": [
    {
     "data": {
      "text/plain": [
       "            Df Sum Sq Mean Sq F value   Pr(>F)    \n",
       "분류코드별   5  150.7   30.15   9.317 3.82e-06 ***\n",
       "variable     9  353.0   39.22  12.122 1.93e-09 ***\n",
       "Residuals   45  145.6    3.24                     \n",
       "---\n",
       "Signif. codes:  0 '***' 0.001 '**' 0.01 '*' 0.05 '.' 0.1 ' ' 1"
      ]
     },
     "metadata": {},
     "output_type": "display_data"
    },
    {
     "data": {
      "text/plain": [
       "$statistics\n",
       "   MSerror Df     Mean       CV      MSD\n",
       "  3.235556 45 109.3333 1.645212 2.393973\n",
       "\n",
       "$parameters\n",
       "   test     name.t ntr StudentizedRange alpha\n",
       "  Tukey 분류코드별   6         4.208669  0.05\n",
       "\n",
       "$means\n",
       "            value      std  r Min Max    Q25   Q50    Q75\n",
       "100-200만원 112.5 3.597839 10 107 119 110.25 112.5 113.75\n",
       "100만원미만 107.7 4.498148 10 101 115 104.50 107.5 110.50\n",
       "200-300만원 109.3 2.869379 10 106 114 107.25 108.0 110.75\n",
       "300-400만원 109.7 1.494434 10 107 112 109.00 110.0 110.75\n",
       "400-500만원 108.9 2.685351 10 105 113 107.25 108.5 111.25\n",
       "500만원이상 107.9 2.131770 10 106 112 106.00 107.5 109.50\n",
       "\n",
       "$comparison\n",
       "NULL\n",
       "\n",
       "$groups\n",
       "            value groups\n",
       "100-200만원 112.5      a\n",
       "300-400만원 109.7      b\n",
       "200-300만원 109.3      b\n",
       "400-500만원 108.9      b\n",
       "500만원이상 107.9      b\n",
       "100만원미만 107.7      b\n",
       "\n",
       "attr(,\"class\")\n",
       "[1] \"group\""
      ]
     },
     "metadata": {},
     "output_type": "display_data"
    }
   ],
   "source": [
    "#소득별 의료·보건비 지출전망 코로나 이후\n",
    "model1 = aov(value ~ 분류코드별 + variable, data=data2_a[data2_a$지수코드별 == '의료·보건비 지출전망CSI', ])\n",
    "summary(model1)\n",
    "a=HSD.test(model1, '분류코드별', group=TRUE)\n",
    "a"
   ]
  },
  {
   "cell_type": "code",
   "execution_count": 19,
   "metadata": {},
   "outputs": [
    {
     "data": {
      "text/plain": [
       "             Df Sum Sq Mean Sq F value   Pr(>F)    \n",
       "분류코드별    5  213.6   42.72  12.559 9.82e-10 ***\n",
       "variable     23  210.3    9.14   2.688 0.000289 ***\n",
       "Residuals   115  391.2    3.40                     \n",
       "---\n",
       "Signif. codes:  0 '***' 0.001 '**' 0.01 '*' 0.05 '.' 0.1 ' ' 1"
      ]
     },
     "metadata": {},
     "output_type": "display_data"
    },
    {
     "data": {
      "text/plain": [
       "$statistics\n",
       "   MSerror  Df     Mean       CV      MSD\n",
       "  3.401872 115 112.5764 1.638369 1.543187\n",
       "\n",
       "$parameters\n",
       "   test     name.t ntr StudentizedRange alpha\n",
       "  Tukey 분류코드별   6          4.09888  0.05\n",
       "\n",
       "$means\n",
       "               value      std  r Min Max Q25   Q50    Q75\n",
       "100-200만원 113.6250 2.747529 24 108 119 111 113.0 116.00\n",
       "100만원미만 113.7083 2.216130 24 109 118 112 114.0 115.25\n",
       "200-300만원 113.1667 2.548088 24 108 117 111 113.5 115.00\n",
       "300-400만원 113.0833 1.212854 24 111 115 112 113.0 114.00\n",
       "400-500만원 111.4583 1.667572 24 109 114 110 111.5 112.25\n",
       "500만원이상 110.4167 1.717345 24 107 114 109 110.0 111.00\n",
       "\n",
       "$comparison\n",
       "NULL\n",
       "\n",
       "$groups\n",
       "               value groups\n",
       "100만원미만 113.7083      a\n",
       "100-200만원 113.6250      a\n",
       "200-300만원 113.1667      a\n",
       "300-400만원 113.0833      a\n",
       "400-500만원 111.4583      b\n",
       "500만원이상 110.4167      b\n",
       "\n",
       "attr(,\"class\")\n",
       "[1] \"group\""
      ]
     },
     "metadata": {},
     "output_type": "display_data"
    }
   ],
   "source": [
    "#소득별 의료·보건비 지출전망 코로나 이전\n",
    "model2 = aov(value ~ 분류코드별 + variable, data=data2_b[data2_b$지수코드별 == '의료·보건비 지출전망CSI', ])\n",
    "summary(model2)\n",
    "b=HSD.test(model2, '분류코드별', group=TRUE)\n",
    "b"
   ]
  },
  {
   "cell_type": "code",
   "execution_count": 20,
   "metadata": {},
   "outputs": [
    {
     "data": {
      "text/plain": [
       "            Df Sum Sq Mean Sq F value Pr(>F)    \n",
       "분류코드별   5   1710   342.1   87.46 <2e-16 ***\n",
       "variable     9   1893   210.3   53.78 <2e-16 ***\n",
       "Residuals   45    176     3.9                   \n",
       "---\n",
       "Signif. codes:  0 '***' 0.001 '**' 0.01 '*' 0.05 '.' 0.1 ' ' 1"
      ]
     },
     "metadata": {},
     "output_type": "display_data"
    },
    {
     "data": {
      "text/plain": [
       "$statistics\n",
       "   MSerror Df     Mean       CV      MSD\n",
       "  3.911111 45 77.66667 2.546334 2.632054\n",
       "\n",
       "$parameters\n",
       "   test     name.t ntr StudentizedRange alpha\n",
       "  Tukey 분류코드별   6         4.208669  0.05\n",
       "\n",
       "$means\n",
       "            value      std  r Min Max   Q25  Q50   Q75\n",
       "100-200만원  73.8 5.452828 10  66  83 70.25 71.5 77.50\n",
       "100만원미만  69.4 7.058486 10  59  81 65.50 68.5 70.75\n",
       "200-300만원  76.2 5.769652 10  68  89 74.00 74.5 77.00\n",
       "300-400만원  79.5 6.753600 10  71  92 76.25 77.5 80.75\n",
       "400-500만원  81.0 6.306963 10  74  93 76.00 79.5 84.75\n",
       "500만원이상  86.1 5.626327 10  81  97 82.00 84.0 88.00\n",
       "\n",
       "$comparison\n",
       "NULL\n",
       "\n",
       "$groups\n",
       "            value groups\n",
       "500만원이상  86.1      a\n",
       "400-500만원  81.0      b\n",
       "300-400만원  79.5      b\n",
       "200-300만원  76.2      c\n",
       "100-200만원  73.8      c\n",
       "100만원미만  69.4      d\n",
       "\n",
       "attr(,\"class\")\n",
       "[1] \"group\""
      ]
     },
     "metadata": {},
     "output_type": "display_data"
    }
   ],
   "source": [
    "#소득별 교양·오락·문화생활비 지출전망 코로나 이후\n",
    "model1 = aov(value ~ 분류코드별 + variable, data=data2_a[data2_a$지수코드별 == '교양·오락·문화생활비 지출전망CSI', ])\n",
    "summary(model1)\n",
    "a=HSD.test(model1, '분류코드별', group=TRUE)\n",
    "a"
   ]
  },
  {
   "cell_type": "code",
   "execution_count": 21,
   "metadata": {},
   "outputs": [
    {
     "data": {
      "text/plain": [
       "             Df Sum Sq Mean Sq F value Pr(>F)    \n",
       "분류코드별    5   4654   930.7 158.038 <2e-16 ***\n",
       "variable     23    201     8.7   1.481 0.0912 .  \n",
       "Residuals   115    677     5.9                   \n",
       "---\n",
       "Signif. codes:  0 '***' 0.001 '**' 0.01 '*' 0.05 '.' 0.1 ' ' 1"
      ]
     },
     "metadata": {},
     "output_type": "display_data"
    },
    {
     "data": {
      "text/plain": [
       "$statistics\n",
       "   MSerror  Df     Mean       CV      MSD\n",
       "  5.889372 115 88.94444 2.728448 2.030458\n",
       "\n",
       "$parameters\n",
       "   test     name.t ntr StudentizedRange alpha\n",
       "  Tukey 분류코드별   6          4.09888  0.05\n",
       "\n",
       "$means\n",
       "               value      std  r Min Max Q25  Q50   Q75\n",
       "100-200만원 83.37500 2.634429 24  77  89  82 83.0 85.00\n",
       "100만원미만 80.87500 2.953443 24  77  89  79 80.5 82.25\n",
       "200-300만원 87.41667 2.448010 24  83  92  85 88.0 89.00\n",
       "300-400만원 90.95833 2.074256 24  88  95  89 90.5 92.25\n",
       "400-500만원 93.95833 3.042870 24  88  99  92 94.5 96.00\n",
       "500만원이상 97.08333 1.717345 24  93 100  96 97.0 98.00\n",
       "\n",
       "$comparison\n",
       "NULL\n",
       "\n",
       "$groups\n",
       "               value groups\n",
       "500만원이상 97.08333      a\n",
       "400-500만원 93.95833      b\n",
       "300-400만원 90.95833      c\n",
       "200-300만원 87.41667      d\n",
       "100-200만원 83.37500      e\n",
       "100만원미만 80.87500      f\n",
       "\n",
       "attr(,\"class\")\n",
       "[1] \"group\""
      ]
     },
     "metadata": {},
     "output_type": "display_data"
    }
   ],
   "source": [
    "#소득별 교양·오락·문화생활비 지출전망 코로나 이전\n",
    "model2 = aov(value ~ 분류코드별 + variable, data=data2_b[data2_b$지수코드별 == '교양·오락·문화생활비 지출전망CSI', ])\n",
    "summary(model2)\n",
    "b=HSD.test(model2, '분류코드별', group=TRUE)\n",
    "b"
   ]
  },
  {
   "cell_type": "code",
   "execution_count": 22,
   "metadata": {},
   "outputs": [
    {
     "data": {
      "text/plain": [
       "            Df Sum Sq Mean Sq F value Pr(>F)    \n",
       "분류코드별   5   4498   899.7  272.93 <2e-16 ***\n",
       "variable     9    938   104.3   31.63 <2e-16 ***\n",
       "Residuals   45    148     3.3                   \n",
       "---\n",
       "Signif. codes:  0 '***' 0.001 '**' 0.01 '*' 0.05 '.' 0.1 ' ' 1"
      ]
     },
     "metadata": {},
     "output_type": "display_data"
    },
    {
     "data": {
      "text/plain": [
       "$statistics\n",
       "   MSerror Df     Mean       CV      MSD\n",
       "  3.296296 45 93.53333 1.941095 2.416339\n",
       "\n",
       "$parameters\n",
       "   test     name.t ntr StudentizedRange alpha\n",
       "  Tukey 분류코드별   6         4.208669  0.05\n",
       "\n",
       "$means\n",
       "            value      std  r Min Max    Q25   Q50    Q75\n",
       "100-200만원  86.8 4.022161 10  80  94  84.25  86.0  89.75\n",
       "100만원미만  79.0 4.784233 10  71  88  77.25  78.0  78.75\n",
       "200-300만원  91.7 4.083844 10  88  99  89.00  90.0  92.50\n",
       "300-400만원  98.7 5.271517 10  92 108  96.00  98.0  99.75\n",
       "400-500만원 101.4 4.857983 10  95 110  99.00 100.0 102.75\n",
       "500만원이상 103.6 3.687818 10  99 111 101.00 102.5 105.00\n",
       "\n",
       "$comparison\n",
       "NULL\n",
       "\n",
       "$groups\n",
       "            value groups\n",
       "500만원이상 103.6      a\n",
       "400-500만원 101.4      a\n",
       "300-400만원  98.7      b\n",
       "200-300만원  91.7      c\n",
       "100-200만원  86.8      d\n",
       "100만원미만  79.0      e\n",
       "\n",
       "attr(,\"class\")\n",
       "[1] \"group\""
      ]
     },
     "metadata": {},
     "output_type": "display_data"
    }
   ],
   "source": [
    "#소득별 교육비 지출전망 코로나 이후\n",
    "model1 = aov(value ~ 분류코드별 + variable, data=data2_a[data2_a$지수코드별 == '교육비 지출전망CSI', ])\n",
    "summary(model1)\n",
    "a=HSD.test(model1, '분류코드별', group=TRUE)\n",
    "a"
   ]
  },
  {
   "cell_type": "code",
   "execution_count": 23,
   "metadata": {},
   "outputs": [
    {
     "data": {
      "text/plain": [
       "             Df Sum Sq Mean Sq F value Pr(>F)    \n",
       "분류코드별    5  11123  2224.6  450.91 <2e-16 ***\n",
       "variable     23   1080    47.0    9.52 <2e-16 ***\n",
       "Residuals   115    567     4.9                   \n",
       "---\n",
       "Signif. codes:  0 '***' 0.001 '**' 0.01 '*' 0.05 '.' 0.1 ' ' 1"
      ]
     },
     "metadata": {},
     "output_type": "display_data"
    },
    {
     "data": {
      "text/plain": [
       "$statistics\n",
       "   MSerror  Df     Mean       CV      MSD\n",
       "  4.933575 115 100.8056 2.203415 1.858405\n",
       "\n",
       "$parameters\n",
       "   test     name.t ntr StudentizedRange alpha\n",
       "  Tukey 분류코드별   6          4.09888  0.05\n",
       "\n",
       "$means\n",
       "                value      std  r Min Max    Q25   Q50    Q75\n",
       "100-200만원  91.87500 3.959716 24  85 100  89.75  91.0  94.25\n",
       "100만원미만  87.16667 3.045548 24  81  93  85.00  87.0  89.25\n",
       "200-300만원  99.29167 4.196056 24  93 107  97.00  98.0 104.00\n",
       "300-400만원 107.66667 3.679162 24 102 117 105.00 106.5 110.25\n",
       "400-500만원 109.33333 3.305682 24 102 116 107.75 109.0 111.00\n",
       "500만원이상 109.50000 2.146787 24 106 114 108.00 109.0 111.00\n",
       "\n",
       "$comparison\n",
       "NULL\n",
       "\n",
       "$groups\n",
       "                value groups\n",
       "500만원이상 109.50000      a\n",
       "400-500만원 109.33333      a\n",
       "300-400만원 107.66667      a\n",
       "200-300만원  99.29167      b\n",
       "100-200만원  91.87500      c\n",
       "100만원미만  87.16667      d\n",
       "\n",
       "attr(,\"class\")\n",
       "[1] \"group\""
      ]
     },
     "metadata": {},
     "output_type": "display_data"
    }
   ],
   "source": [
    "#소득별 교육비 지출전망 코로나 이전\n",
    "model2 = aov(value ~ 분류코드별 + variable, data=data2_b[data2_b$지수코드별 == '교육비 지출전망CSI', ])\n",
    "summary(model2)\n",
    "b=HSD.test(model2, '분류코드별', group=TRUE)\n",
    "b"
   ]
  },
  {
   "cell_type": "code",
   "execution_count": 24,
   "metadata": {},
   "outputs": [
    {
     "data": {
      "text/plain": [
       "            Df Sum Sq Mean Sq F value Pr(>F)    \n",
       "분류코드별   5   1946   389.2   49.88 <2e-16 ***\n",
       "variable     9   4905   545.0   69.85 <2e-16 ***\n",
       "Residuals   45    351     7.8                   \n",
       "---\n",
       "Signif. codes:  0 '***' 0.001 '**' 0.01 '*' 0.05 '.' 0.1 ' ' 1"
      ]
     },
     "metadata": {},
     "output_type": "display_data"
    },
    {
     "data": {
      "text/plain": [
       "$statistics\n",
       "   MSerror Df Mean       CV      MSD\n",
       "  7.802963 45 67.7 4.126113 3.717702\n",
       "\n",
       "$parameters\n",
       "   test     name.t ntr StudentizedRange alpha\n",
       "  Tukey 분류코드별   6         4.208669  0.05\n",
       "\n",
       "$means\n",
       "            value       std  r Min Max   Q25  Q50   Q75\n",
       "100-200만원  62.9  7.355270 10  54  77 57.25 61.5 65.00\n",
       "100만원미만  59.5  8.462335 10  48  76 54.50 57.5 60.50\n",
       "200-300만원  65.6  8.771165 10  56  86 60.50 64.0 65.00\n",
       "300-400만원  69.7 10.382143 10  58  91 64.25 68.0 70.00\n",
       "400-500만원  72.0 10.801234 10  59  94 65.00 69.0 76.25\n",
       "500만원이상  76.5 12.527747 10  63 103 68.50 73.0 79.50\n",
       "\n",
       "$comparison\n",
       "NULL\n",
       "\n",
       "$groups\n",
       "            value groups\n",
       "500만원이상  76.5      a\n",
       "400-500만원  72.0      b\n",
       "300-400만원  69.7      b\n",
       "200-300만원  65.6      c\n",
       "100-200만원  62.9     cd\n",
       "100만원미만  59.5      d\n",
       "\n",
       "attr(,\"class\")\n",
       "[1] \"group\""
      ]
     },
     "metadata": {},
     "output_type": "display_data"
    }
   ],
   "source": [
    "#소득별 여행비 지출전망 코로나 이후\n",
    "model1 = aov(value ~ 분류코드별 + variable, data=data2_a[data2_a$지수코드별 == '여행비 지출전망CSI', ])\n",
    "summary(model1)\n",
    "a=HSD.test(model1, '분류코드별', group=TRUE)\n",
    "a"
   ]
  },
  {
   "cell_type": "code",
   "execution_count": 25,
   "metadata": {},
   "outputs": [
    {
     "data": {
      "text/plain": [
       "             Df Sum Sq Mean Sq F value Pr(>F)    \n",
       "분류코드별    5  15009  3001.9  471.82 <2e-16 ***\n",
       "variable     23   1567    68.1   10.71 <2e-16 ***\n",
       "Residuals   115    732     6.4                   \n",
       "---\n",
       "Signif. codes:  0 '***' 0.001 '**' 0.01 '*' 0.05 '.' 0.1 ' ' 1"
      ]
     },
     "metadata": {},
     "output_type": "display_data"
    },
    {
     "data": {
      "text/plain": [
       "$statistics\n",
       "   MSerror  Df   Mean       CV      MSD\n",
       "  6.362319 115 88.625 2.846109 2.110412\n",
       "\n",
       "$parameters\n",
       "   test     name.t ntr StudentizedRange alpha\n",
       "  Tukey 분류코드별   6          4.09888  0.05\n",
       "\n",
       "$means\n",
       "                value      std  r Min Max Q25   Q50    Q75\n",
       "100-200만원  77.83333 3.841045 24  70  85  75  78.0  80.25\n",
       "100만원미만  74.16667 3.383678 24  68  80  72  74.5  77.00\n",
       "200-300만원  87.08333 3.786896 24  79  93  84  88.0  89.25\n",
       "300-400만원  92.45833 5.183411 24  83 101  88  91.5  97.00\n",
       "400-500만원  97.00000 4.587317 24  89 106  94  97.5 101.00\n",
       "500만원이상 103.20833 3.387691 24  97 109 101 102.5 107.00\n",
       "\n",
       "$comparison\n",
       "NULL\n",
       "\n",
       "$groups\n",
       "                value groups\n",
       "500만원이상 103.20833      a\n",
       "400-500만원  97.00000      b\n",
       "300-400만원  92.45833      c\n",
       "200-300만원  87.08333      d\n",
       "100-200만원  77.83333      e\n",
       "100만원미만  74.16667      f\n",
       "\n",
       "attr(,\"class\")\n",
       "[1] \"group\""
      ]
     },
     "metadata": {},
     "output_type": "display_data"
    }
   ],
   "source": [
    "#소득별 여행비 지출전망 코로나 이전\n",
    "model2 = aov(value ~ 분류코드별 + variable, data=data2_b[data2_b$지수코드별 == '여행비 지출전망CSI', ])\n",
    "summary(model2)\n",
    "b=HSD.test(model2, '분류코드별', group=TRUE)\n",
    "b"
   ]
  },
  {
   "cell_type": "code",
   "execution_count": 26,
   "metadata": {},
   "outputs": [
    {
     "data": {
      "text/plain": [
       "            Df Sum Sq Mean Sq F value Pr(>F)    \n",
       "분류코드별   5   2241   448.3  114.61 <2e-16 ***\n",
       "variable     9   1086   120.7   30.86 <2e-16 ***\n",
       "Residuals   45    176     3.9                   \n",
       "---\n",
       "Signif. codes:  0 '***' 0.001 '**' 0.01 '*' 0.05 '.' 0.1 ' ' 1"
      ]
     },
     "metadata": {},
     "output_type": "display_data"
    },
    {
     "data": {
      "text/plain": [
       "$statistics\n",
       "   MSerror Df     Mean       CV      MSD\n",
       "  3.911111 45 86.26667 2.292488 2.632054\n",
       "\n",
       "$parameters\n",
       "   test     name.t ntr StudentizedRange alpha\n",
       "  Tukey 분류코드별   6         4.208669  0.05\n",
       "\n",
       "$means\n",
       "            value      std  r Min Max   Q25  Q50  Q75\n",
       "100-200만원  80.0 4.136558 10  71  85 79.00 80.0 82.5\n",
       "100만원미만  77.4 5.059644 10  70  86 73.50 77.5 80.5\n",
       "200-300만원  85.2 4.709329 10  79  92 81.50 84.5 88.5\n",
       "300-400만원  88.4 4.835057 10  83  98 84.50 87.5 90.5\n",
       "400-500만원  92.4 5.796551 10  84 101 88.50 91.0 97.5\n",
       "500만원이상  94.2 4.289522 10  87 101 92.25 93.5 96.5\n",
       "\n",
       "$comparison\n",
       "NULL\n",
       "\n",
       "$groups\n",
       "            value groups\n",
       "500만원이상  94.2      a\n",
       "400-500만원  92.4      a\n",
       "300-400만원  88.4      b\n",
       "200-300만원  85.2      c\n",
       "100-200만원  80.0      d\n",
       "100만원미만  77.4      d\n",
       "\n",
       "attr(,\"class\")\n",
       "[1] \"group\""
      ]
     },
     "metadata": {},
     "output_type": "display_data"
    }
   ],
   "source": [
    "#소득별 의류비 지출전망 코로나 이후\n",
    "model1 = aov(value ~ 분류코드별 + variable, data=data2_a[data2_a$지수코드별 == '의류비 지출전망CSI', ])\n",
    "summary(model1)\n",
    "a=HSD.test(model1, '분류코드별', group=TRUE)\n",
    "a"
   ]
  },
  {
   "cell_type": "code",
   "execution_count": 27,
   "metadata": {},
   "outputs": [
    {
     "data": {
      "text/plain": [
       "             Df Sum Sq Mean Sq F value   Pr(>F)    \n",
       "분류코드별    5   5522  1104.3 180.754  < 2e-16 ***\n",
       "variable     23    616    26.8   4.381 5.51e-08 ***\n",
       "Residuals   115    703     6.1                     \n",
       "---\n",
       "Signif. codes:  0 '***' 0.001 '**' 0.01 '*' 0.05 '.' 0.1 ' ' 1"
      ]
     },
     "metadata": {},
     "output_type": "display_data"
    },
    {
     "data": {
      "text/plain": [
       "$statistics\n",
       "   MSerror  Df     Mean       CV      MSD\n",
       "  6.109662 115 96.26389 2.567705 2.068084\n",
       "\n",
       "$parameters\n",
       "   test     name.t ntr StudentizedRange alpha\n",
       "  Tukey 분류코드별   6          4.09888  0.05\n",
       "\n",
       "$means\n",
       "                value      std  r Min Max    Q25   Q50    Q75\n",
       "100-200만원  90.00000 2.484736 24  84  96  89.00  90.0  91.25\n",
       "100만원미만  86.25000 2.489107 24  83  92  84.00  86.0  87.25\n",
       "200-300만원  96.20833 2.812691 24  91 101  94.00  96.5  98.00\n",
       "300-400만원 100.75000 3.948032 24  94 107  97.75 100.5 104.25\n",
       "400-500만원 102.54167 3.799075 24  95 108  99.00 103.0 105.25\n",
       "500만원이상 101.83333 2.648489 24  96 106 100.00 102.0 104.00\n",
       "\n",
       "$comparison\n",
       "NULL\n",
       "\n",
       "$groups\n",
       "                value groups\n",
       "400-500만원 102.54167      a\n",
       "500만원이상 101.83333      a\n",
       "300-400만원 100.75000      a\n",
       "200-300만원  96.20833      b\n",
       "100-200만원  90.00000      c\n",
       "100만원미만  86.25000      d\n",
       "\n",
       "attr(,\"class\")\n",
       "[1] \"group\""
      ]
     },
     "metadata": {},
     "output_type": "display_data"
    }
   ],
   "source": [
    "#소득별 의류비 지출전망 코로나 이전\n",
    "model2 = aov(value ~ 분류코드별 + variable, data=data2_b[data2_b$지수코드별 == '의류비 지출전망CSI', ])\n",
    "summary(model2)\n",
    "b=HSD.test(model2, '분류코드별', group=TRUE)\n",
    "b"
   ]
  },
  {
   "cell_type": "code",
   "execution_count": 28,
   "metadata": {},
   "outputs": [
    {
     "data": {
      "text/plain": [
       "            Df Sum Sq Mean Sq F value Pr(>F)    \n",
       "분류코드별   5 3059.5   611.9   143.2 <2e-16 ***\n",
       "variable     9 1654.3   183.8    43.0 <2e-16 ***\n",
       "Residuals   45  192.3     4.3                   \n",
       "---\n",
       "Signif. codes:  0 '***' 0.001 '**' 0.01 '*' 0.05 '.' 0.1 ' ' 1"
      ]
     },
     "metadata": {},
     "output_type": "display_data"
    },
    {
     "data": {
      "text/plain": [
       "$statistics\n",
       "   MSerror Df     Mean       CV      MSD\n",
       "  4.274444 45 79.38333 2.604417 2.751596\n",
       "\n",
       "$parameters\n",
       "   test     name.t ntr StudentizedRange alpha\n",
       "  Tukey 분류코드별   6         4.208669  0.05\n",
       "\n",
       "$means\n",
       "            value      std  r Min Max   Q25  Q50   Q75\n",
       "100-200만원  73.1 5.566766 10  63  81 71.50 73.0 77.00\n",
       "100만원미만  68.1 7.279347 10  58  81 64.25 67.5 72.75\n",
       "200-300만원  79.3 4.989990 10  72  88 76.25 79.0 81.75\n",
       "300-400만원  81.0 4.944132 10  75  91 78.25 80.0 83.00\n",
       "400-500만원  85.4 6.484169 10  79  96 79.25 84.0 90.50\n",
       "500만원이상  89.4 5.460973 10  82  99 84.75 89.0 92.00\n",
       "\n",
       "$comparison\n",
       "NULL\n",
       "\n",
       "$groups\n",
       "            value groups\n",
       "500만원이상  89.4      a\n",
       "400-500만원  85.4      b\n",
       "300-400만원  81.0      c\n",
       "200-300만원  79.3      c\n",
       "100-200만원  73.1      d\n",
       "100만원미만  68.1      e\n",
       "\n",
       "attr(,\"class\")\n",
       "[1] \"group\""
      ]
     },
     "metadata": {},
     "output_type": "display_data"
    }
   ],
   "source": [
    "#소득별 외식비 지출전망 코로나 이후\n",
    "model1 = aov(value ~ 분류코드별 + variable, data=data2_a[data2_a$지수코드별 == '외식비 지출전망CSI', ])\n",
    "summary(model1)\n",
    "a=HSD.test(model1, '분류코드별', group=TRUE)\n",
    "a"
   ]
  },
  {
   "cell_type": "code",
   "execution_count": 29,
   "metadata": {},
   "outputs": [
    {
     "data": {
      "text/plain": [
       "             Df Sum Sq Mean Sq F value   Pr(>F)    \n",
       "분류코드별    5   7468  1493.6 284.963  < 2e-16 ***\n",
       "variable     23    341    14.8   2.828 0.000141 ***\n",
       "Residuals   115    603     5.2                     \n",
       "---\n",
       "Signif. codes:  0 '***' 0.001 '**' 0.01 '*' 0.05 '.' 0.1 ' ' 1"
      ]
     },
     "metadata": {},
     "output_type": "display_data"
    },
    {
     "data": {
      "text/plain": [
       "$statistics\n",
       "   MSerror  Df     Mean       CV      MSD\n",
       "  5.241546 115 89.26389 2.564802 1.915531\n",
       "\n",
       "$parameters\n",
       "   test     name.t ntr StudentizedRange alpha\n",
       "  Tukey 분류코드별   6          4.09888  0.05\n",
       "\n",
       "$means\n",
       "               value      std  r Min Max   Q25  Q50    Q75\n",
       "100-200만원 82.33333 2.407717 24  75  86 81.75 82.0  84.00\n",
       "100만원미만 77.75000 3.096281 24  72  83 76.00 77.0  80.25\n",
       "200-300만원 89.08333 2.041241 24  86  94 87.00 89.5  90.00\n",
       "300-400만원 92.79167 3.374832 24  88 100 90.75 92.0  95.25\n",
       "400-500만원 95.37500 2.299575 24  91  99 93.75 96.0  97.00\n",
       "500만원이상 98.25000 2.191882 24  95 103 97.00 98.0 100.00\n",
       "\n",
       "$comparison\n",
       "NULL\n",
       "\n",
       "$groups\n",
       "               value groups\n",
       "500만원이상 98.25000      a\n",
       "400-500만원 95.37500      b\n",
       "300-400만원 92.79167      c\n",
       "200-300만원 89.08333      d\n",
       "100-200만원 82.33333      e\n",
       "100만원미만 77.75000      f\n",
       "\n",
       "attr(,\"class\")\n",
       "[1] \"group\""
      ]
     },
     "metadata": {},
     "output_type": "display_data"
    }
   ],
   "source": [
    "#소득별 외식비 지출전망 코로나 이전\n",
    "model2 = aov(value ~ 분류코드별 + variable, data=data2_b[data2_b$지수코드별 == '외식비 지출전망CSI', ])\n",
    "summary(model2)\n",
    "b=HSD.test(model2, '분류코드별', group=TRUE)\n",
    "b"
   ]
  },
  {
   "cell_type": "code",
   "execution_count": 30,
   "metadata": {},
   "outputs": [
    {
     "data": {
      "text/html": [
       "<ol class=list-inline>\n",
       "\t<li>2244</li>\n",
       "\t<li>4</li>\n",
       "</ol>\n"
      ],
      "text/latex": [
       "\\begin{enumerate*}\n",
       "\\item 2244\n",
       "\\item 4\n",
       "\\end{enumerate*}\n"
      ],
      "text/markdown": [
       "1. 2244\n",
       "2. 4\n",
       "\n",
       "\n"
      ],
      "text/plain": [
       "[1] 2244    4"
      ]
     },
     "metadata": {},
     "output_type": "display_data"
    }
   ],
   "source": [
    "#연령별 비교\n",
    "data3 <- data %>%\n",
    "  filter(분류코드별 %in% c('100만원미만', '100-200만원', '200-300만원', '300-400만원', '400-500만원', '500만원이상')) %>% \n",
    "  filter(지수코드별 %in% c('가계수입전망CSI', '현재가계저축CSI', '가계저축전망CSI', '주택가격전망CSI', '소비지출전망CSI', '의료·보건비 지출전망CSI', '교양·오락·문화생활비 지출전망CSI', '의류비 지출전망CSI', '외식비 지출전망CSI', '여행비 지출전망CSI', '교육비 지출전망CSI')) %>% \n",
    "  select(-항목, -단위) %>% \n",
    "  melt(id.vars=c('지수코드별', '분류코드별'))\n",
    "\n",
    "data3$지수코드별 = as.factor(data3$지수코드별)\n",
    "data3$분류코드별 = as.factor(data3$분류코드별)\n",
    "dim(data2)\n",
    "data3_b <- data3[c(1:1584), ]\n",
    "data3_a <- data3[c(1585:2244), ]"
   ]
  },
  {
   "cell_type": "code",
   "execution_count": 31,
   "metadata": {},
   "outputs": [
    {
     "data": {
      "text/plain": [
       "            Df Sum Sq Mean Sq F value Pr(>F)    \n",
       "분류코드별   5 2423.9   484.8  129.03 <2e-16 ***\n",
       "variable     9 1616.9   179.7   47.82 <2e-16 ***\n",
       "Residuals   45  169.1     3.8                   \n",
       "---\n",
       "Signif. codes:  0 '***' 0.001 '**' 0.01 '*' 0.05 '.' 0.1 ' ' 1"
      ]
     },
     "metadata": {},
     "output_type": "display_data"
    },
    {
     "data": {
      "text/plain": [
       "$statistics\n",
       "   MSerror Df     Mean       CV     MSD\n",
       "  3.757037 45 88.03333 2.201788 2.57969\n",
       "\n",
       "$parameters\n",
       "   test     name.t ntr StudentizedRange alpha\n",
       "  Tukey 분류코드별   6         4.208669  0.05\n",
       "\n",
       "$means\n",
       "            value      std  r Min Max   Q25  Q50   Q75\n",
       "100-200만원  82.7 5.888784 10  72  93 80.00 81.5 85.75\n",
       "100만원미만  77.5 6.770032 10  67  89 73.00 77.5 79.00\n",
       "200-300만원  88.2 5.846176 10  81  99 84.50 87.0 91.00\n",
       "300-400만원  90.3 5.657836 10  82 102 87.00 89.5 93.25\n",
       "400-500만원  92.8 4.871687 10  87 103 90.00 91.0 96.00\n",
       "500만원이상  96.7 5.292552 10  90 107 92.75 95.5 99.25\n",
       "\n",
       "$comparison\n",
       "NULL\n",
       "\n",
       "$groups\n",
       "            value groups\n",
       "500만원이상  96.7      a\n",
       "400-500만원  92.8      b\n",
       "300-400만원  90.3     bc\n",
       "200-300만원  88.2      c\n",
       "100-200만원  82.7      d\n",
       "100만원미만  77.5      e\n",
       "\n",
       "attr(,\"class\")\n",
       "[1] \"group\""
      ]
     },
     "metadata": {},
     "output_type": "display_data"
    }
   ],
   "source": [
    "#소득별 가계수입전망 코로나 이후\n",
    "model1 = aov(value ~ 분류코드별 + variable, data=data3_a[data2_a$지수코드별 == '가계수입전망CSI', ])\n",
    "summary(model1)\n",
    "a=HSD.test(model1, '분류코드별', group=TRUE)\n",
    "a"
   ]
  },
  {
   "cell_type": "code",
   "execution_count": 32,
   "metadata": {},
   "outputs": [
    {
     "data": {
      "text/plain": [
       "             Df Sum Sq Mean Sq F value   Pr(>F)    \n",
       "분류코드별    5   3954   790.9 183.301  < 2e-16 ***\n",
       "variable     23    816    35.5   8.222 2.69e-15 ***\n",
       "Residuals   115    496     4.3                     \n",
       "---\n",
       "Signif. codes:  0 '***' 0.001 '**' 0.01 '*' 0.05 '.' 0.1 ' ' 1"
      ]
     },
     "metadata": {},
     "output_type": "display_data"
    },
    {
     "data": {
      "text/plain": [
       "$statistics\n",
       "   MSerror  Df     Mean       CV      MSD\n",
       "  4.314734 115 97.15278 2.138069 1.737947\n",
       "\n",
       "$parameters\n",
       "   test     name.t ntr StudentizedRange alpha\n",
       "  Tukey 분류코드별   6          4.09888  0.05\n",
       "\n",
       "$means\n",
       "                value      std  r Min Max    Q25 Q50    Q75\n",
       "100-200만원  92.87500 3.068954 24  88 100  91.00  92  95.00\n",
       "100만원미만  88.29167 3.263489 24  81  96  87.00  88  90.00\n",
       "200-300만원  97.66667 2.530968 24  93 103  96.00  97  99.25\n",
       "300-400만원  98.45833 3.361924 24  94 106  95.75  98 100.25\n",
       "400-500만원 101.83333 3.459915 24  96 109  99.00 102 105.00\n",
       "500만원이상 103.79167 2.702321 24 100 111 102.00 103 105.00\n",
       "\n",
       "$comparison\n",
       "NULL\n",
       "\n",
       "$groups\n",
       "                value groups\n",
       "500만원이상 103.79167      a\n",
       "400-500만원 101.83333      b\n",
       "300-400만원  98.45833      c\n",
       "200-300만원  97.66667      c\n",
       "100-200만원  92.87500      d\n",
       "100만원미만  88.29167      e\n",
       "\n",
       "attr(,\"class\")\n",
       "[1] \"group\""
      ]
     },
     "metadata": {},
     "output_type": "display_data"
    }
   ],
   "source": [
    "#소득별 가계수입전망 코로나 이전\n",
    "model2 = aov(value ~ 분류코드별 + variable, data=data2_b[data3_b$지수코드별 == '가계수입전망CSI', ])\n",
    "summary(model2)\n",
    "b=HSD.test(model2, '분류코드별', group=TRUE)\n",
    "b\n"
   ]
  },
  {
   "cell_type": "code",
   "execution_count": 38,
   "metadata": {},
   "outputs": [
    {
     "data": {
      "text/plain": [
       "            Df Sum Sq Mean Sq F value   Pr(>F)    \n",
       "분류코드별   5    272    54.4   8.447 1.07e-05 ***\n",
       "variable     9   5905   656.1 101.909  < 2e-16 ***\n",
       "Residuals   45    290     6.4                     \n",
       "---\n",
       "Signif. codes:  0 '***' 0.001 '**' 0.01 '*' 0.05 '.' 0.1 ' ' 1"
      ]
     },
     "metadata": {},
     "output_type": "display_data"
    },
    {
     "data": {
      "text/plain": [
       "$statistics\n",
       "   MSerror Df     Mean      CV      MSD\n",
       "  6.438519 45 114.1333 2.22321 3.377052\n",
       "\n",
       "$parameters\n",
       "   test     name.t ntr StudentizedRange alpha\n",
       "  Tukey 분류코드별   6         4.208669  0.05\n",
       "\n",
       "$means\n",
       "            value      std  r Min Max    Q25   Q50    Q75\n",
       "100-200만원 117.3 11.34362 10  99 132 111.25 117.0 126.25\n",
       "100만원미만 114.8 11.66000 10  97 129 109.25 113.5 124.00\n",
       "200-300만원 115.5 10.18986 10  97 129 112.50 117.0 121.50\n",
       "300-400만원 112.6 10.45838 10  94 126 111.75 114.5 119.00\n",
       "400-500만원 114.0  9.69536 10  97 126 113.00 115.5 120.25\n",
       "500만원이상 110.6 10.79300 10  92 124 109.25 111.5 118.50\n",
       "\n",
       "$comparison\n",
       "NULL\n",
       "\n",
       "$groups\n",
       "            value groups\n",
       "100-200만원 117.3      a\n",
       "200-300만원 115.5     ab\n",
       "100만원미만 114.8     ab\n",
       "400-500만원 114.0     ab\n",
       "300-400만원 112.6     bc\n",
       "500만원이상 110.6      c\n",
       "\n",
       "attr(,\"class\")\n",
       "[1] \"group\""
      ]
     },
     "metadata": {},
     "output_type": "display_data"
    }
   ],
   "source": [
    "#연령별 주택가격전망 코로나 이후\n",
    "model1 = aov(value ~ 분류코드별 + variable, data=data3_a[data3_a$지수코드별 == '주택가격전망CSI', ])\n",
    "summary(model1)\n",
    "a=HSD.test(model1, '분류코드별', group=TRUE)\n",
    "a"
   ]
  },
  {
   "cell_type": "code",
   "execution_count": 39,
   "metadata": {},
   "outputs": [
    {
     "data": {
      "text/plain": [
       "             Df Sum Sq Mean Sq F value Pr(>F)    \n",
       "분류코드별    5   1145   228.9   34.48 <2e-16 ***\n",
       "variable     23  18806   817.6  123.14 <2e-16 ***\n",
       "Residuals   115    764     6.6                   \n",
       "---\n",
       "Signif. codes:  0 '***' 0.001 '**' 0.01 '*' 0.05 '.' 0.1 ' ' 1"
      ]
     },
     "metadata": {},
     "output_type": "display_data"
    },
    {
     "data": {
      "text/plain": [
       "$statistics\n",
       "   MSerror  Df     Mean       CV     MSD\n",
       "  6.640097 115 104.7361 2.460315 2.15599\n",
       "\n",
       "$parameters\n",
       "   test     name.t ntr StudentizedRange alpha\n",
       "  Tukey 분류코드별   6          4.09888  0.05\n",
       "\n",
       "$means\n",
       "               value      std  r Min Max    Q25   Q50    Q75\n",
       "100-200만원 108.2917 10.71967 24  88 129 102.25 108.0 115.25\n",
       "100만원미만 107.9583 11.21908 24  88 137 100.75 108.5 113.50\n",
       "200-300만원 105.5000 11.51181 24  86 130  99.00 105.0 110.25\n",
       "300-400만원 102.5000 12.11539 24  82 130  94.00 103.0 108.50\n",
       "400-500만원 103.6667 12.31707 24  81 126  97.00 105.0 111.25\n",
       "500만원이상 100.5000 13.38071 24  78 125  92.00 100.5 108.50\n",
       "\n",
       "$comparison\n",
       "NULL\n",
       "\n",
       "$groups\n",
       "               value groups\n",
       "100-200만원 108.2917      a\n",
       "100만원미만 107.9583      a\n",
       "200-300만원 105.5000      b\n",
       "400-500만원 103.6667     bc\n",
       "300-400만원 102.5000     cd\n",
       "500만원이상 100.5000      d\n",
       "\n",
       "attr(,\"class\")\n",
       "[1] \"group\""
      ]
     },
     "metadata": {},
     "output_type": "display_data"
    }
   ],
   "source": [
    "#연령별 주택가격전망 코로나 이전\n",
    "model2 = aov(value ~ 분류코드별 + variable, data=data3_b[data3_b$지수코드별 == '주택가격전망CSI', ])\n",
    "summary(model2)\n",
    "b=HSD.test(model2, '분류코드별', group=TRUE)\n",
    "b"
   ]
  },
  {
   "cell_type": "code",
   "execution_count": 40,
   "metadata": {},
   "outputs": [
    {
     "data": {
      "text/plain": [
       "            Df Sum Sq Mean Sq F value Pr(>F)    \n",
       "분류코드별   5 1620.4   324.1   68.60 <2e-16 ***\n",
       "variable     9 2597.4   288.6   61.09 <2e-16 ***\n",
       "Residuals   45  212.6     4.7                   \n",
       "---\n",
       "Signif. codes:  0 '***' 0.001 '**' 0.01 '*' 0.05 '.' 0.1 ' ' 1"
      ]
     },
     "metadata": {},
     "output_type": "display_data"
    },
    {
     "data": {
      "text/plain": [
       "$statistics\n",
       "   MSerror Df Mean       CV      MSD\n",
       "  4.724444 45 94.6 2.297652 2.892812\n",
       "\n",
       "$parameters\n",
       "   test     name.t ntr StudentizedRange alpha\n",
       "  Tukey 분류코드별   6         4.208669  0.05\n",
       "\n",
       "$means\n",
       "            value      std  r Min Max   Q25  Q50    Q75\n",
       "100-200만원  90.8 6.579429 10  80 103 87.25 89.0  94.00\n",
       "100만원미만  86.3 7.513691 10  75 100 81.50 85.5  89.25\n",
       "200-300만원  93.6 6.979335 10  84 108 89.50 92.0  96.75\n",
       "300-400만원  95.7 6.600505 10  87 107 91.00 93.0 100.00\n",
       "400-500만원  99.1 7.504813 10  89 112 95.25 97.0 103.75\n",
       "500만원이상 102.1 7.992357 10  92 117 97.25 99.0 107.00\n",
       "\n",
       "$comparison\n",
       "NULL\n",
       "\n",
       "$groups\n",
       "            value groups\n",
       "500만원이상 102.1      a\n",
       "400-500만원  99.1      b\n",
       "300-400만원  95.7      c\n",
       "200-300만원  93.6     cd\n",
       "100-200만원  90.8      d\n",
       "100만원미만  86.3      e\n",
       "\n",
       "attr(,\"class\")\n",
       "[1] \"group\""
      ]
     },
     "metadata": {},
     "output_type": "display_data"
    }
   ],
   "source": [
    "#연령별 소비지출전망 코로나 이후\n",
    "model1 = aov(value ~ 분류코드별 + variable, data=data3_a[data3_a$지수코드별 == '소비지출전망CSI', ])\n",
    "summary(model1)\n",
    "a=HSD.test(model1, '분류코드별', group=TRUE)\n",
    "a"
   ]
  },
  {
   "cell_type": "code",
   "execution_count": 41,
   "metadata": {},
   "outputs": [
    {
     "data": {
      "text/plain": [
       "             Df Sum Sq Mean Sq F value   Pr(>F)    \n",
       "분류코드별    5   4772   954.3 206.411  < 2e-16 ***\n",
       "variable     23    390    17.0   3.666 1.95e-06 ***\n",
       "Residuals   115    532     4.6                     \n",
       "---\n",
       "Signif. codes:  0 '***' 0.001 '**' 0.01 '*' 0.05 '.' 0.1 ' ' 1"
      ]
     },
     "metadata": {},
     "output_type": "display_data"
    },
    {
     "data": {
      "text/plain": [
       "$statistics\n",
       "  MSerror  Df     Mean       CV      MSD\n",
       "  4.62343 115 106.3611 2.021619 1.799044\n",
       "\n",
       "$parameters\n",
       "   test     name.t ntr StudentizedRange alpha\n",
       "  Tukey 분류코드별   6          4.09888  0.05\n",
       "\n",
       "$means\n",
       "                value      std  r Min Max    Q25   Q50    Q75\n",
       "100-200만원 101.16667 3.088079 24  95 106  99.75 101.0 104.00\n",
       "100만원미만  96.91667 2.764946 24  92 103  95.00  97.0  98.00\n",
       "200-300만원 105.91667 2.104171 24 103 110 105.00 105.5 107.25\n",
       "300-400만원 109.29167 2.493106 24 103 115 109.00 109.0 111.00\n",
       "400-500만원 112.50000 2.766256 24 105 117 111.00 113.5 114.25\n",
       "500만원이상 112.37500 2.142987 24 107 116 111.00 112.0 114.00\n",
       "\n",
       "$comparison\n",
       "NULL\n",
       "\n",
       "$groups\n",
       "                value groups\n",
       "400-500만원 112.50000      a\n",
       "500만원이상 112.37500      a\n",
       "300-400만원 109.29167      b\n",
       "200-300만원 105.91667      c\n",
       "100-200만원 101.16667      d\n",
       "100만원미만  96.91667      e\n",
       "\n",
       "attr(,\"class\")\n",
       "[1] \"group\""
      ]
     },
     "metadata": {},
     "output_type": "display_data"
    }
   ],
   "source": [
    "#연령별 소비지출전망 코로나 이전\n",
    "model2 = aov(value ~ 분류코드별 + variable, data=data3_b[data3_b$지수코드별 == '소비지출전망CSI', ])\n",
    "summary(model2)\n",
    "b=HSD.test(model2, '분류코드별', group=TRUE)\n",
    "b"
   ]
  },
  {
   "cell_type": "code",
   "execution_count": 42,
   "metadata": {},
   "outputs": [
    {
     "data": {
      "text/plain": [
       "            Df Sum Sq Mean Sq F value   Pr(>F)    \n",
       "분류코드별   5  150.7   30.15   9.317 3.82e-06 ***\n",
       "variable     9  353.0   39.22  12.122 1.93e-09 ***\n",
       "Residuals   45  145.6    3.24                     \n",
       "---\n",
       "Signif. codes:  0 '***' 0.001 '**' 0.01 '*' 0.05 '.' 0.1 ' ' 1"
      ]
     },
     "metadata": {},
     "output_type": "display_data"
    },
    {
     "data": {
      "text/plain": [
       "$statistics\n",
       "   MSerror Df     Mean       CV      MSD\n",
       "  3.235556 45 109.3333 1.645212 2.393973\n",
       "\n",
       "$parameters\n",
       "   test     name.t ntr StudentizedRange alpha\n",
       "  Tukey 분류코드별   6         4.208669  0.05\n",
       "\n",
       "$means\n",
       "            value      std  r Min Max    Q25   Q50    Q75\n",
       "100-200만원 112.5 3.597839 10 107 119 110.25 112.5 113.75\n",
       "100만원미만 107.7 4.498148 10 101 115 104.50 107.5 110.50\n",
       "200-300만원 109.3 2.869379 10 106 114 107.25 108.0 110.75\n",
       "300-400만원 109.7 1.494434 10 107 112 109.00 110.0 110.75\n",
       "400-500만원 108.9 2.685351 10 105 113 107.25 108.5 111.25\n",
       "500만원이상 107.9 2.131770 10 106 112 106.00 107.5 109.50\n",
       "\n",
       "$comparison\n",
       "NULL\n",
       "\n",
       "$groups\n",
       "            value groups\n",
       "100-200만원 112.5      a\n",
       "300-400만원 109.7      b\n",
       "200-300만원 109.3      b\n",
       "400-500만원 108.9      b\n",
       "500만원이상 107.9      b\n",
       "100만원미만 107.7      b\n",
       "\n",
       "attr(,\"class\")\n",
       "[1] \"group\""
      ]
     },
     "metadata": {},
     "output_type": "display_data"
    }
   ],
   "source": [
    "#연령별 의료·보건비 지출전망 코로나 이후\n",
    "model1 = aov(value ~ 분류코드별 + variable, data=data3_a[data3_a$지수코드별 == '의료·보건비 지출전망CSI', ])\n",
    "summary(model1)\n",
    "a=HSD.test(model1, '분류코드별', group=TRUE)\n",
    "a"
   ]
  },
  {
   "cell_type": "code",
   "execution_count": 43,
   "metadata": {},
   "outputs": [
    {
     "data": {
      "text/plain": [
       "             Df Sum Sq Mean Sq F value   Pr(>F)    \n",
       "분류코드별    5  213.6   42.72  12.559 9.82e-10 ***\n",
       "variable     23  210.3    9.14   2.688 0.000289 ***\n",
       "Residuals   115  391.2    3.40                     \n",
       "---\n",
       "Signif. codes:  0 '***' 0.001 '**' 0.01 '*' 0.05 '.' 0.1 ' ' 1"
      ]
     },
     "metadata": {},
     "output_type": "display_data"
    },
    {
     "data": {
      "text/plain": [
       "$statistics\n",
       "   MSerror  Df     Mean       CV      MSD\n",
       "  3.401872 115 112.5764 1.638369 1.543187\n",
       "\n",
       "$parameters\n",
       "   test     name.t ntr StudentizedRange alpha\n",
       "  Tukey 분류코드별   6          4.09888  0.05\n",
       "\n",
       "$means\n",
       "               value      std  r Min Max Q25   Q50    Q75\n",
       "100-200만원 113.6250 2.747529 24 108 119 111 113.0 116.00\n",
       "100만원미만 113.7083 2.216130 24 109 118 112 114.0 115.25\n",
       "200-300만원 113.1667 2.548088 24 108 117 111 113.5 115.00\n",
       "300-400만원 113.0833 1.212854 24 111 115 112 113.0 114.00\n",
       "400-500만원 111.4583 1.667572 24 109 114 110 111.5 112.25\n",
       "500만원이상 110.4167 1.717345 24 107 114 109 110.0 111.00\n",
       "\n",
       "$comparison\n",
       "NULL\n",
       "\n",
       "$groups\n",
       "               value groups\n",
       "100만원미만 113.7083      a\n",
       "100-200만원 113.6250      a\n",
       "200-300만원 113.1667      a\n",
       "300-400만원 113.0833      a\n",
       "400-500만원 111.4583      b\n",
       "500만원이상 110.4167      b\n",
       "\n",
       "attr(,\"class\")\n",
       "[1] \"group\""
      ]
     },
     "metadata": {},
     "output_type": "display_data"
    }
   ],
   "source": [
    "#연령별 의료·보건비 지출전망 코로나 이전\n",
    "model2 = aov(value ~ 분류코드별 + variable, data=data3_b[data3_b$지수코드별 == '의료·보건비 지출전망CSI', ])\n",
    "summary(model2)\n",
    "b=HSD.test(model2, '분류코드별', group=TRUE)\n",
    "b"
   ]
  },
  {
   "cell_type": "code",
   "execution_count": 44,
   "metadata": {},
   "outputs": [
    {
     "data": {
      "text/plain": [
       "            Df Sum Sq Mean Sq F value Pr(>F)    \n",
       "분류코드별   5   1710   342.1   87.46 <2e-16 ***\n",
       "variable     9   1893   210.3   53.78 <2e-16 ***\n",
       "Residuals   45    176     3.9                   \n",
       "---\n",
       "Signif. codes:  0 '***' 0.001 '**' 0.01 '*' 0.05 '.' 0.1 ' ' 1"
      ]
     },
     "metadata": {},
     "output_type": "display_data"
    },
    {
     "data": {
      "text/plain": [
       "$statistics\n",
       "   MSerror Df     Mean       CV      MSD\n",
       "  3.911111 45 77.66667 2.546334 2.632054\n",
       "\n",
       "$parameters\n",
       "   test     name.t ntr StudentizedRange alpha\n",
       "  Tukey 분류코드별   6         4.208669  0.05\n",
       "\n",
       "$means\n",
       "            value      std  r Min Max   Q25  Q50   Q75\n",
       "100-200만원  73.8 5.452828 10  66  83 70.25 71.5 77.50\n",
       "100만원미만  69.4 7.058486 10  59  81 65.50 68.5 70.75\n",
       "200-300만원  76.2 5.769652 10  68  89 74.00 74.5 77.00\n",
       "300-400만원  79.5 6.753600 10  71  92 76.25 77.5 80.75\n",
       "400-500만원  81.0 6.306963 10  74  93 76.00 79.5 84.75\n",
       "500만원이상  86.1 5.626327 10  81  97 82.00 84.0 88.00\n",
       "\n",
       "$comparison\n",
       "NULL\n",
       "\n",
       "$groups\n",
       "            value groups\n",
       "500만원이상  86.1      a\n",
       "400-500만원  81.0      b\n",
       "300-400만원  79.5      b\n",
       "200-300만원  76.2      c\n",
       "100-200만원  73.8      c\n",
       "100만원미만  69.4      d\n",
       "\n",
       "attr(,\"class\")\n",
       "[1] \"group\""
      ]
     },
     "metadata": {},
     "output_type": "display_data"
    }
   ],
   "source": [
    "#연령별 교양·오락·문화생활비 지출전망 코로나 이후\n",
    "model1 = aov(value ~ 분류코드별 + variable, data=data3_a[data3_a$지수코드별 == '교양·오락·문화생활비 지출전망CSI', ])\n",
    "summary(model1)\n",
    "a=HSD.test(model1, '분류코드별', group=TRUE)\n",
    "a"
   ]
  },
  {
   "cell_type": "code",
   "execution_count": 45,
   "metadata": {},
   "outputs": [
    {
     "data": {
      "text/plain": [
       "             Df Sum Sq Mean Sq F value Pr(>F)    \n",
       "분류코드별    5   4654   930.7 158.038 <2e-16 ***\n",
       "variable     23    201     8.7   1.481 0.0912 .  \n",
       "Residuals   115    677     5.9                   \n",
       "---\n",
       "Signif. codes:  0 '***' 0.001 '**' 0.01 '*' 0.05 '.' 0.1 ' ' 1"
      ]
     },
     "metadata": {},
     "output_type": "display_data"
    },
    {
     "data": {
      "text/plain": [
       "$statistics\n",
       "   MSerror  Df     Mean       CV      MSD\n",
       "  5.889372 115 88.94444 2.728448 2.030458\n",
       "\n",
       "$parameters\n",
       "   test     name.t ntr StudentizedRange alpha\n",
       "  Tukey 분류코드별   6          4.09888  0.05\n",
       "\n",
       "$means\n",
       "               value      std  r Min Max Q25  Q50   Q75\n",
       "100-200만원 83.37500 2.634429 24  77  89  82 83.0 85.00\n",
       "100만원미만 80.87500 2.953443 24  77  89  79 80.5 82.25\n",
       "200-300만원 87.41667 2.448010 24  83  92  85 88.0 89.00\n",
       "300-400만원 90.95833 2.074256 24  88  95  89 90.5 92.25\n",
       "400-500만원 93.95833 3.042870 24  88  99  92 94.5 96.00\n",
       "500만원이상 97.08333 1.717345 24  93 100  96 97.0 98.00\n",
       "\n",
       "$comparison\n",
       "NULL\n",
       "\n",
       "$groups\n",
       "               value groups\n",
       "500만원이상 97.08333      a\n",
       "400-500만원 93.95833      b\n",
       "300-400만원 90.95833      c\n",
       "200-300만원 87.41667      d\n",
       "100-200만원 83.37500      e\n",
       "100만원미만 80.87500      f\n",
       "\n",
       "attr(,\"class\")\n",
       "[1] \"group\""
      ]
     },
     "metadata": {},
     "output_type": "display_data"
    }
   ],
   "source": [
    "#연령별 교양·오락·문화생활비 지출전망 코로나 이전\n",
    "model2 = aov(value ~ 분류코드별 + variable, data=data3_b[data3_b$지수코드별 == '교양·오락·문화생활비 지출전망CSI', ])\n",
    "summary(model2)\n",
    "b=HSD.test(model2, '분류코드별', group=TRUE)\n",
    "b"
   ]
  },
  {
   "cell_type": "code",
   "execution_count": 46,
   "metadata": {},
   "outputs": [
    {
     "data": {
      "text/plain": [
       "            Df Sum Sq Mean Sq F value Pr(>F)    \n",
       "분류코드별   5   2241   448.3  114.61 <2e-16 ***\n",
       "variable     9   1086   120.7   30.86 <2e-16 ***\n",
       "Residuals   45    176     3.9                   \n",
       "---\n",
       "Signif. codes:  0 '***' 0.001 '**' 0.01 '*' 0.05 '.' 0.1 ' ' 1"
      ]
     },
     "metadata": {},
     "output_type": "display_data"
    },
    {
     "data": {
      "text/plain": [
       "$statistics\n",
       "   MSerror Df     Mean       CV      MSD\n",
       "  3.911111 45 86.26667 2.292488 2.632054\n",
       "\n",
       "$parameters\n",
       "   test     name.t ntr StudentizedRange alpha\n",
       "  Tukey 분류코드별   6         4.208669  0.05\n",
       "\n",
       "$means\n",
       "            value      std  r Min Max   Q25  Q50  Q75\n",
       "100-200만원  80.0 4.136558 10  71  85 79.00 80.0 82.5\n",
       "100만원미만  77.4 5.059644 10  70  86 73.50 77.5 80.5\n",
       "200-300만원  85.2 4.709329 10  79  92 81.50 84.5 88.5\n",
       "300-400만원  88.4 4.835057 10  83  98 84.50 87.5 90.5\n",
       "400-500만원  92.4 5.796551 10  84 101 88.50 91.0 97.5\n",
       "500만원이상  94.2 4.289522 10  87 101 92.25 93.5 96.5\n",
       "\n",
       "$comparison\n",
       "NULL\n",
       "\n",
       "$groups\n",
       "            value groups\n",
       "500만원이상  94.2      a\n",
       "400-500만원  92.4      a\n",
       "300-400만원  88.4      b\n",
       "200-300만원  85.2      c\n",
       "100-200만원  80.0      d\n",
       "100만원미만  77.4      d\n",
       "\n",
       "attr(,\"class\")\n",
       "[1] \"group\""
      ]
     },
     "metadata": {},
     "output_type": "display_data"
    }
   ],
   "source": [
    "#연령별 의류비 지출전망 코로나 이후\n",
    "model1 = aov(value ~ 분류코드별 + variable, data=data3_a[data3_a$지수코드별 == '의류비 지출전망CSI', ])\n",
    "summary(model1)\n",
    "a=HSD.test(model1, '분류코드별', group=TRUE)\n",
    "a\n"
   ]
  },
  {
   "cell_type": "code",
   "execution_count": 47,
   "metadata": {},
   "outputs": [
    {
     "data": {
      "text/plain": [
       "             Df Sum Sq Mean Sq F value   Pr(>F)    \n",
       "분류코드별    5   5522  1104.3 180.754  < 2e-16 ***\n",
       "variable     23    616    26.8   4.381 5.51e-08 ***\n",
       "Residuals   115    703     6.1                     \n",
       "---\n",
       "Signif. codes:  0 '***' 0.001 '**' 0.01 '*' 0.05 '.' 0.1 ' ' 1"
      ]
     },
     "metadata": {},
     "output_type": "display_data"
    },
    {
     "data": {
      "text/plain": [
       "$statistics\n",
       "   MSerror  Df     Mean       CV      MSD\n",
       "  6.109662 115 96.26389 2.567705 2.068084\n",
       "\n",
       "$parameters\n",
       "   test     name.t ntr StudentizedRange alpha\n",
       "  Tukey 분류코드별   6          4.09888  0.05\n",
       "\n",
       "$means\n",
       "                value      std  r Min Max    Q25   Q50    Q75\n",
       "100-200만원  90.00000 2.484736 24  84  96  89.00  90.0  91.25\n",
       "100만원미만  86.25000 2.489107 24  83  92  84.00  86.0  87.25\n",
       "200-300만원  96.20833 2.812691 24  91 101  94.00  96.5  98.00\n",
       "300-400만원 100.75000 3.948032 24  94 107  97.75 100.5 104.25\n",
       "400-500만원 102.54167 3.799075 24  95 108  99.00 103.0 105.25\n",
       "500만원이상 101.83333 2.648489 24  96 106 100.00 102.0 104.00\n",
       "\n",
       "$comparison\n",
       "NULL\n",
       "\n",
       "$groups\n",
       "                value groups\n",
       "400-500만원 102.54167      a\n",
       "500만원이상 101.83333      a\n",
       "300-400만원 100.75000      a\n",
       "200-300만원  96.20833      b\n",
       "100-200만원  90.00000      c\n",
       "100만원미만  86.25000      d\n",
       "\n",
       "attr(,\"class\")\n",
       "[1] \"group\""
      ]
     },
     "metadata": {},
     "output_type": "display_data"
    }
   ],
   "source": [
    "#연령별 의류비 지출전망 코로나 이전\n",
    "model2 = aov(value ~ 분류코드별 + variable, data=data3_b[data3_b$지수코드별 == '의류비 지출전망CSI', ])\n",
    "summary(model2)\n",
    "b=HSD.test(model2, '분류코드별', group=TRUE)\n",
    "b"
   ]
  },
  {
   "cell_type": "code",
   "execution_count": 48,
   "metadata": {},
   "outputs": [
    {
     "data": {
      "text/plain": [
       "            Df Sum Sq Mean Sq F value Pr(>F)    \n",
       "분류코드별   5 3059.5   611.9   143.2 <2e-16 ***\n",
       "variable     9 1654.3   183.8    43.0 <2e-16 ***\n",
       "Residuals   45  192.3     4.3                   \n",
       "---\n",
       "Signif. codes:  0 '***' 0.001 '**' 0.01 '*' 0.05 '.' 0.1 ' ' 1"
      ]
     },
     "metadata": {},
     "output_type": "display_data"
    },
    {
     "data": {
      "text/plain": [
       "$statistics\n",
       "   MSerror Df     Mean       CV      MSD\n",
       "  4.274444 45 79.38333 2.604417 2.751596\n",
       "\n",
       "$parameters\n",
       "   test     name.t ntr StudentizedRange alpha\n",
       "  Tukey 분류코드별   6         4.208669  0.05\n",
       "\n",
       "$means\n",
       "            value      std  r Min Max   Q25  Q50   Q75\n",
       "100-200만원  73.1 5.566766 10  63  81 71.50 73.0 77.00\n",
       "100만원미만  68.1 7.279347 10  58  81 64.25 67.5 72.75\n",
       "200-300만원  79.3 4.989990 10  72  88 76.25 79.0 81.75\n",
       "300-400만원  81.0 4.944132 10  75  91 78.25 80.0 83.00\n",
       "400-500만원  85.4 6.484169 10  79  96 79.25 84.0 90.50\n",
       "500만원이상  89.4 5.460973 10  82  99 84.75 89.0 92.00\n",
       "\n",
       "$comparison\n",
       "NULL\n",
       "\n",
       "$groups\n",
       "            value groups\n",
       "500만원이상  89.4      a\n",
       "400-500만원  85.4      b\n",
       "300-400만원  81.0      c\n",
       "200-300만원  79.3      c\n",
       "100-200만원  73.1      d\n",
       "100만원미만  68.1      e\n",
       "\n",
       "attr(,\"class\")\n",
       "[1] \"group\""
      ]
     },
     "metadata": {},
     "output_type": "display_data"
    }
   ],
   "source": [
    "#연령별 외식비 지출전망 코로나 이후\n",
    "model1 = aov(value ~ 분류코드별 + variable, data=data3_a[data3_a$지수코드별 == '외식비 지출전망CSI', ])\n",
    "summary(model1)\n",
    "a=HSD.test(model1, '분류코드별', group=TRUE)\n",
    "a"
   ]
  },
  {
   "cell_type": "code",
   "execution_count": 49,
   "metadata": {},
   "outputs": [
    {
     "data": {
      "text/plain": [
       "             Df Sum Sq Mean Sq F value   Pr(>F)    \n",
       "분류코드별    5   7468  1493.6 284.963  < 2e-16 ***\n",
       "variable     23    341    14.8   2.828 0.000141 ***\n",
       "Residuals   115    603     5.2                     \n",
       "---\n",
       "Signif. codes:  0 '***' 0.001 '**' 0.01 '*' 0.05 '.' 0.1 ' ' 1"
      ]
     },
     "metadata": {},
     "output_type": "display_data"
    },
    {
     "data": {
      "text/plain": [
       "$statistics\n",
       "   MSerror  Df     Mean       CV      MSD\n",
       "  5.241546 115 89.26389 2.564802 1.915531\n",
       "\n",
       "$parameters\n",
       "   test     name.t ntr StudentizedRange alpha\n",
       "  Tukey 분류코드별   6          4.09888  0.05\n",
       "\n",
       "$means\n",
       "               value      std  r Min Max   Q25  Q50    Q75\n",
       "100-200만원 82.33333 2.407717 24  75  86 81.75 82.0  84.00\n",
       "100만원미만 77.75000 3.096281 24  72  83 76.00 77.0  80.25\n",
       "200-300만원 89.08333 2.041241 24  86  94 87.00 89.5  90.00\n",
       "300-400만원 92.79167 3.374832 24  88 100 90.75 92.0  95.25\n",
       "400-500만원 95.37500 2.299575 24  91  99 93.75 96.0  97.00\n",
       "500만원이상 98.25000 2.191882 24  95 103 97.00 98.0 100.00\n",
       "\n",
       "$comparison\n",
       "NULL\n",
       "\n",
       "$groups\n",
       "               value groups\n",
       "500만원이상 98.25000      a\n",
       "400-500만원 95.37500      b\n",
       "300-400만원 92.79167      c\n",
       "200-300만원 89.08333      d\n",
       "100-200만원 82.33333      e\n",
       "100만원미만 77.75000      f\n",
       "\n",
       "attr(,\"class\")\n",
       "[1] \"group\""
      ]
     },
     "metadata": {},
     "output_type": "display_data"
    }
   ],
   "source": [
    "#연령별 외식비 지출전망 코로나 이전\n",
    "model2 = aov(value ~ 분류코드별 + variable, data=data3_b[data3_b$지수코드별 == '외식비 지출전망CSI', ])\n",
    "summary(model2)\n",
    "b=HSD.test(model2, '분류코드별', group=TRUE)\n",
    "b"
   ]
  },
  {
   "cell_type": "code",
   "execution_count": 50,
   "metadata": {},
   "outputs": [
    {
     "data": {
      "text/plain": [
       "            Df Sum Sq Mean Sq F value Pr(>F)    \n",
       "분류코드별   5   1946   389.2   49.88 <2e-16 ***\n",
       "variable     9   4905   545.0   69.85 <2e-16 ***\n",
       "Residuals   45    351     7.8                   \n",
       "---\n",
       "Signif. codes:  0 '***' 0.001 '**' 0.01 '*' 0.05 '.' 0.1 ' ' 1"
      ]
     },
     "metadata": {},
     "output_type": "display_data"
    },
    {
     "data": {
      "text/plain": [
       "$statistics\n",
       "   MSerror Df Mean       CV      MSD\n",
       "  7.802963 45 67.7 4.126113 3.717702\n",
       "\n",
       "$parameters\n",
       "   test     name.t ntr StudentizedRange alpha\n",
       "  Tukey 분류코드별   6         4.208669  0.05\n",
       "\n",
       "$means\n",
       "            value       std  r Min Max   Q25  Q50   Q75\n",
       "100-200만원  62.9  7.355270 10  54  77 57.25 61.5 65.00\n",
       "100만원미만  59.5  8.462335 10  48  76 54.50 57.5 60.50\n",
       "200-300만원  65.6  8.771165 10  56  86 60.50 64.0 65.00\n",
       "300-400만원  69.7 10.382143 10  58  91 64.25 68.0 70.00\n",
       "400-500만원  72.0 10.801234 10  59  94 65.00 69.0 76.25\n",
       "500만원이상  76.5 12.527747 10  63 103 68.50 73.0 79.50\n",
       "\n",
       "$comparison\n",
       "NULL\n",
       "\n",
       "$groups\n",
       "            value groups\n",
       "500만원이상  76.5      a\n",
       "400-500만원  72.0      b\n",
       "300-400만원  69.7      b\n",
       "200-300만원  65.6      c\n",
       "100-200만원  62.9     cd\n",
       "100만원미만  59.5      d\n",
       "\n",
       "attr(,\"class\")\n",
       "[1] \"group\""
      ]
     },
     "metadata": {},
     "output_type": "display_data"
    }
   ],
   "source": [
    "#연령별 여행비 지출전망 코로나 이후\n",
    "model1 = aov(value ~ 분류코드별 + variable, data=data3_a[data3_a$지수코드별 == '여행비 지출전망CSI', ])\n",
    "summary(model1)\n",
    "a=HSD.test(model1, '분류코드별', group=TRUE)\n",
    "a"
   ]
  },
  {
   "cell_type": "code",
   "execution_count": 51,
   "metadata": {},
   "outputs": [
    {
     "data": {
      "text/plain": [
       "             Df Sum Sq Mean Sq F value Pr(>F)    \n",
       "분류코드별    5  15009  3001.9  471.82 <2e-16 ***\n",
       "variable     23   1567    68.1   10.71 <2e-16 ***\n",
       "Residuals   115    732     6.4                   \n",
       "---\n",
       "Signif. codes:  0 '***' 0.001 '**' 0.01 '*' 0.05 '.' 0.1 ' ' 1"
      ]
     },
     "metadata": {},
     "output_type": "display_data"
    },
    {
     "data": {
      "text/plain": [
       "$statistics\n",
       "   MSerror  Df   Mean       CV      MSD\n",
       "  6.362319 115 88.625 2.846109 2.110412\n",
       "\n",
       "$parameters\n",
       "   test     name.t ntr StudentizedRange alpha\n",
       "  Tukey 분류코드별   6          4.09888  0.05\n",
       "\n",
       "$means\n",
       "                value      std  r Min Max Q25   Q50    Q75\n",
       "100-200만원  77.83333 3.841045 24  70  85  75  78.0  80.25\n",
       "100만원미만  74.16667 3.383678 24  68  80  72  74.5  77.00\n",
       "200-300만원  87.08333 3.786896 24  79  93  84  88.0  89.25\n",
       "300-400만원  92.45833 5.183411 24  83 101  88  91.5  97.00\n",
       "400-500만원  97.00000 4.587317 24  89 106  94  97.5 101.00\n",
       "500만원이상 103.20833 3.387691 24  97 109 101 102.5 107.00\n",
       "\n",
       "$comparison\n",
       "NULL\n",
       "\n",
       "$groups\n",
       "                value groups\n",
       "500만원이상 103.20833      a\n",
       "400-500만원  97.00000      b\n",
       "300-400만원  92.45833      c\n",
       "200-300만원  87.08333      d\n",
       "100-200만원  77.83333      e\n",
       "100만원미만  74.16667      f\n",
       "\n",
       "attr(,\"class\")\n",
       "[1] \"group\""
      ]
     },
     "metadata": {},
     "output_type": "display_data"
    }
   ],
   "source": [
    "#연령별 여행비 지출전망 코로나 이전\n",
    "model2 = aov(value ~ 분류코드별 + variable, data=data3_b[data3_b$지수코드별 == '여행비 지출전망CSI', ])\n",
    "summary(model2)\n",
    "b=HSD.test(model2, '분류코드별', group=TRUE)\n",
    "b"
   ]
  },
  {
   "cell_type": "code",
   "execution_count": 52,
   "metadata": {},
   "outputs": [
    {
     "data": {
      "text/plain": [
       "            Df Sum Sq Mean Sq F value Pr(>F)    \n",
       "분류코드별   5   4498   899.7  272.93 <2e-16 ***\n",
       "variable     9    938   104.3   31.63 <2e-16 ***\n",
       "Residuals   45    148     3.3                   \n",
       "---\n",
       "Signif. codes:  0 '***' 0.001 '**' 0.01 '*' 0.05 '.' 0.1 ' ' 1"
      ]
     },
     "metadata": {},
     "output_type": "display_data"
    },
    {
     "data": {
      "text/plain": [
       "$statistics\n",
       "   MSerror Df     Mean       CV      MSD\n",
       "  3.296296 45 93.53333 1.941095 2.416339\n",
       "\n",
       "$parameters\n",
       "   test     name.t ntr StudentizedRange alpha\n",
       "  Tukey 분류코드별   6         4.208669  0.05\n",
       "\n",
       "$means\n",
       "            value      std  r Min Max    Q25   Q50    Q75\n",
       "100-200만원  86.8 4.022161 10  80  94  84.25  86.0  89.75\n",
       "100만원미만  79.0 4.784233 10  71  88  77.25  78.0  78.75\n",
       "200-300만원  91.7 4.083844 10  88  99  89.00  90.0  92.50\n",
       "300-400만원  98.7 5.271517 10  92 108  96.00  98.0  99.75\n",
       "400-500만원 101.4 4.857983 10  95 110  99.00 100.0 102.75\n",
       "500만원이상 103.6 3.687818 10  99 111 101.00 102.5 105.00\n",
       "\n",
       "$comparison\n",
       "NULL\n",
       "\n",
       "$groups\n",
       "            value groups\n",
       "500만원이상 103.6      a\n",
       "400-500만원 101.4      a\n",
       "300-400만원  98.7      b\n",
       "200-300만원  91.7      c\n",
       "100-200만원  86.8      d\n",
       "100만원미만  79.0      e\n",
       "\n",
       "attr(,\"class\")\n",
       "[1] \"group\""
      ]
     },
     "metadata": {},
     "output_type": "display_data"
    }
   ],
   "source": [
    "#연령별 교육비 지출전망 코로나 이후\n",
    "model1 = aov(value ~ 분류코드별 + variable, data=data3_a[data3_a$지수코드별 == '교육비 지출전망CSI', ])\n",
    "summary(model1)\n",
    "a=HSD.test(model1, '분류코드별', group=TRUE)\n",
    "a"
   ]
  },
  {
   "cell_type": "code",
   "execution_count": 53,
   "metadata": {},
   "outputs": [
    {
     "data": {
      "text/plain": [
       "             Df Sum Sq Mean Sq F value Pr(>F)    \n",
       "분류코드별    5  11123  2224.6  450.91 <2e-16 ***\n",
       "variable     23   1080    47.0    9.52 <2e-16 ***\n",
       "Residuals   115    567     4.9                   \n",
       "---\n",
       "Signif. codes:  0 '***' 0.001 '**' 0.01 '*' 0.05 '.' 0.1 ' ' 1"
      ]
     },
     "metadata": {},
     "output_type": "display_data"
    },
    {
     "data": {
      "text/plain": [
       "$statistics\n",
       "   MSerror  Df     Mean       CV      MSD\n",
       "  4.933575 115 100.8056 2.203415 1.858405\n",
       "\n",
       "$parameters\n",
       "   test     name.t ntr StudentizedRange alpha\n",
       "  Tukey 분류코드별   6          4.09888  0.05\n",
       "\n",
       "$means\n",
       "                value      std  r Min Max    Q25   Q50    Q75\n",
       "100-200만원  91.87500 3.959716 24  85 100  89.75  91.0  94.25\n",
       "100만원미만  87.16667 3.045548 24  81  93  85.00  87.0  89.25\n",
       "200-300만원  99.29167 4.196056 24  93 107  97.00  98.0 104.00\n",
       "300-400만원 107.66667 3.679162 24 102 117 105.00 106.5 110.25\n",
       "400-500만원 109.33333 3.305682 24 102 116 107.75 109.0 111.00\n",
       "500만원이상 109.50000 2.146787 24 106 114 108.00 109.0 111.00\n",
       "\n",
       "$comparison\n",
       "NULL\n",
       "\n",
       "$groups\n",
       "                value groups\n",
       "500만원이상 109.50000      a\n",
       "400-500만원 109.33333      a\n",
       "300-400만원 107.66667      a\n",
       "200-300만원  99.29167      b\n",
       "100-200만원  91.87500      c\n",
       "100만원미만  87.16667      d\n",
       "\n",
       "attr(,\"class\")\n",
       "[1] \"group\""
      ]
     },
     "metadata": {},
     "output_type": "display_data"
    }
   ],
   "source": [
    "#연령별 교육비 지출전망 코로나 이전\n",
    "model2 = aov(value ~ 분류코드별 + variable, data=data3_b[data3_b$지수코드별 == '교육비 지출전망CSI', ])\n",
    "summary(model2)\n",
    "b=HSD.test(model2, '분류코드별', group=TRUE)\n",
    "b"
   ]
  }
 ],
 "metadata": {
  "kernelspec": {
   "display_name": "R",
   "language": "R",
   "name": "ir"
  },
  "language_info": {
   "codemirror_mode": "r",
   "file_extension": ".r",
   "mimetype": "text/x-r-source",
   "name": "R",
   "pygments_lexer": "r",
   "version": "3.6.1"
  }
 },
 "nbformat": 4,
 "nbformat_minor": 4
}
